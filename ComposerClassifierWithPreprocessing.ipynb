{
  "nbformat": 4,
  "nbformat_minor": 0,
  "metadata": {
    "colab": {
      "name": "ComposerClassifierWithPreprocessing.ipynb",
      "version": "0.3.2",
      "provenance": [],
      "collapsed_sections": [],
      "include_colab_link": true
    },
    "kernelspec": {
      "name": "python2",
      "display_name": "Python 2"
    },
    "accelerator": "GPU"
  },
  "cells": [
    {
      "cell_type": "markdown",
      "metadata": {
        "id": "view-in-github",
        "colab_type": "text"
      },
      "source": [
        "<a href=\"https://colab.research.google.com/github/Zhachory1/MusicNST/blob/master/ComposerClassifierWithPreprocessing.ipynb\" target=\"_parent\"><img src=\"https://colab.research.google.com/assets/colab-badge.svg\" alt=\"Open In Colab\"/></a>"
      ]
    },
    {
      "cell_type": "code",
      "metadata": {
        "id": "WmBP4PbjYfIo",
        "colab_type": "code",
        "outputId": "31e26f4e-8b8f-4930-f150-157391e7a6c0",
        "colab": {
          "base_uri": "https://localhost:8080/",
          "height": 156
        }
      },
      "source": [
        "#@title Install Dependencies\n",
        "print 'Installing dependencies...'\n",
        "!apt-get update -qq && apt-get install -qq libfluidsynth1 fluid-soundfont-gm build-essential libasound2-dev libjack-dev\n",
        "!pip install -q pyfluidsynth\n",
        "!pip install py-midi pretty_midi"
      ],
      "execution_count": 1,
      "outputs": [
        {
          "output_type": "stream",
          "text": [
            "Installing dependencies...\n",
            "Requirement already satisfied: py-midi in /usr/local/lib/python2.7/dist-packages (1.2.5)\n",
            "Requirement already satisfied: pretty_midi in /usr/local/lib/python2.7/dist-packages (0.2.8)\n",
            "Requirement already satisfied: pyserial in /usr/local/lib/python2.7/dist-packages (from py-midi) (3.4)\n",
            "Requirement already satisfied: six in /usr/local/lib/python2.7/dist-packages (from pretty_midi) (1.12.0)\n",
            "Requirement already satisfied: numpy>=1.7.0 in /usr/local/lib/python2.7/dist-packages (from pretty_midi) (1.16.3)\n",
            "Requirement already satisfied: mido>=1.1.16 in /usr/local/lib/python2.7/dist-packages (from pretty_midi) (1.2.6)\n"
          ],
          "name": "stdout"
        }
      ]
    },
    {
      "cell_type": "code",
      "metadata": {
        "id": "_mJwMpOcae7f",
        "colab_type": "code",
        "outputId": "ff56ba72-fefb-4839-e725-cf07d785ea0d",
        "colab": {
          "base_uri": "https://localhost:8080/",
          "height": 51
        }
      },
      "source": [
        "#@title Import Data from GitHub \n",
        "!cd MusicNST/ && git pull\n",
        "!git clone https://github.com/Zhachory1/MusicNST.git"
      ],
      "execution_count": 2,
      "outputs": [
        {
          "output_type": "stream",
          "text": [
            "Already up to date.\n",
            "fatal: destination path 'MusicNST' already exists and is not an empty directory.\n"
          ],
          "name": "stdout"
        }
      ]
    },
    {
      "cell_type": "code",
      "metadata": {
        "id": "bFoNTPg1agRG",
        "colab_type": "code",
        "outputId": "84a319ff-08b6-4da9-cf0f-fee67bdfbe2b",
        "colab": {
          "base_uri": "https://localhost:8080/",
          "height": 700
        }
      },
      "source": [
        "#@Title Imports\n",
        "import os\n",
        "import copy\n",
        "import fnmatch\n",
        "import numpy as np\n",
        "import time\n",
        "import argparse\n",
        "import warnings\n",
        "import midi\n",
        "import pretty_midi\n",
        "import pandas as pd\n",
        "import collections\n",
        "import random\n",
        "import tensorflow as tf\n",
        "\n",
        "from google.colab import files\n",
        "\n",
        "# Note sequence to piano roll\n",
        "from magenta.music.pianoroll_lib import PianorollSequence\n",
        "import magenta.music.sequences_lib as seq_lib\n",
        "import magenta.music as mm\n",
        "import magenta.models.music_vae.data as data\n",
        "from magenta.protobuf import music_pb2\n",
        "from tensorflow import Graph, Session\n",
        "\n",
        "from keras import optimizers, losses\n",
        "from keras.models import Model, load_model\n",
        "from keras.layers import Input\n",
        "from keras.layers import Dense, Lambda, LSTM, RepeatVector, Bidirectional\n",
        "from keras import backend as K\n",
        "from keras.utils import Sequence\n",
        "from keras import optimizers, objectives\n",
        "from keras import backend, losses, utils\n",
        "from keras.models import Model\n",
        "from keras.layers import Input\n",
        "from keras.layers import Dense, Lambda, LSTM, RepeatVector\n",
        "from keras.layers.convolutional import Convolution2D, AveragePooling2D, MaxPooling2D, Convolution1D\n",
        "from keras import backend as K\n",
        "from keras.utils import Sequence, to_categorical\n",
        "from keras.utils.data_utils import get_file\n",
        "from keras.utils.layer_utils import convert_all_kernels_in_model  \n",
        "\n",
        "from tensorflow.python.client import device_lib\n",
        "print(device_lib.list_local_devices())\n",
        "\n",
        "def play(note_sequence):\n",
        "  mm.play_sequence(note_sequence, synth=mm.fluidsynth)\n",
        "\n",
        "def download(note_sequence, filename):\n",
        "  mm.sequence_proto_to_midi_file(note_sequence, filename)\n",
        "  files.download(filename)"
      ],
      "execution_count": 3,
      "outputs": [
        {
          "output_type": "stream",
          "text": [
            "\n",
            "WARNING: The TensorFlow contrib module will not be included in TensorFlow 2.0.\n",
            "For more information, please see:\n",
            "  * https://github.com/tensorflow/community/blob/master/rfcs/20180907-contrib-sunset.md\n",
            "  * https://github.com/tensorflow/addons\n",
            "If you depend on functionality not listed there, please file an issue.\n",
            "\n"
          ],
          "name": "stdout"
        },
        {
          "output_type": "stream",
          "text": [
            "Using TensorFlow backend.\n"
          ],
          "name": "stderr"
        },
        {
          "output_type": "stream",
          "text": [
            "[name: \"/device:CPU:0\"\n",
            "device_type: \"CPU\"\n",
            "memory_limit: 268435456\n",
            "locality {\n",
            "}\n",
            "incarnation: 12200081356864760654\n",
            ", name: \"/device:XLA_CPU:0\"\n",
            "device_type: \"XLA_CPU\"\n",
            "memory_limit: 17179869184\n",
            "locality {\n",
            "}\n",
            "incarnation: 12917747216972248462\n",
            "physical_device_desc: \"device: XLA_CPU device\"\n",
            ", name: \"/device:XLA_GPU:0\"\n",
            "device_type: \"XLA_GPU\"\n",
            "memory_limit: 17179869184\n",
            "locality {\n",
            "}\n",
            "incarnation: 2626900019919092181\n",
            "physical_device_desc: \"device: XLA_GPU device\"\n",
            ", name: \"/device:GPU:0\"\n",
            "device_type: \"GPU\"\n",
            "memory_limit: 14800692839\n",
            "locality {\n",
            "  bus_id: 1\n",
            "  links {\n",
            "  }\n",
            "}\n",
            "incarnation: 10269008440172421570\n",
            "physical_device_desc: \"device: 0, name: Tesla T4, pci bus id: 0000:00:04.0, compute capability: 7.5\"\n",
            "]\n"
          ],
          "name": "stdout"
        }
      ]
    },
    {
      "cell_type": "code",
      "metadata": {
        "id": "dbkDk06ZahgD",
        "colab_type": "code",
        "colab": {}
      },
      "source": [
        "#@Title Helper functions and global variables \n",
        "\n",
        "################################################################################\n",
        "#                                 Constants \n",
        "################################################################################\n",
        "BATCH_SIZE = 50\n",
        "NUM_ITER = 25\n",
        "DF_FNAME = 'midi_filename'\n",
        "DF_FEATURES = 'midi_features'\n",
        "DF_COMPOSER = 'canonical_composer'\n",
        "DF_COMPOSER_INDEX = 'composer_idx'\n",
        "DF_SPLIT = \"split\"\n",
        "PATH_PREFIX = './MusicNST/midi_files/maestro-v1.0.0/'\n",
        "INDEX_PATH = PATH_PREFIX + \"maestro-v1.0.0.csv\"\n",
        "MAX_DIM = 500\n",
        "COUNT_CUTTING = 0\n",
        "################################################################################\n",
        "#                    Helper Functions to manipulate input data. \n",
        "################################################################################\n",
        "\n",
        "def new_note_sequence(steps_per_quarter, step_per_split):\n",
        "  \"\"\"Helper function to quickly create default NoteSequence proto\"\"\"\n",
        "  qns = music_pb2.NoteSequence()\n",
        "  qns.quantization_info.steps_per_quarter = steps_per_quarter\n",
        "  qns.total_quantized_steps = step_per_split\n",
        "  qns.total_time = 2 * int(step_per_split/steps_per_quarter)\n",
        "  time_signature = qns.time_signatures.add()\n",
        "  time_signature.numerator = 4\n",
        "  time_signature.denominator = 4\n",
        "  time_signature.time = 0\n",
        "  tempo = qns.tempos.add()\n",
        "  tempo.qpm = 120 # quarters per minute\n",
        "  tempo.time = 0\n",
        "  return qns\n",
        "  \n",
        "\n",
        "def split_note_sequences(note_sequence, bars_per_split=2, steps_per_quarter=4):\n",
        "  \"\"\"Splits note_sequences into new note sequence of length bars_per_split\n",
        "  \n",
        "  Given a note_sequence, we quantize it to steps_per_quarter notes in a beat. We\n",
        "  then grab 16*bar_per_split steps into separate note_sequences, assuming that \n",
        "  the bars are in 4|4 time. Setting bars_per_split to 2 will return an array of \n",
        "  note sequences that are of length 32. \n",
        "  \n",
        "  Args:\n",
        "    note_sequence:      NoteSequence, input note sequence to split\n",
        "    bars_per_split:     int, number of bars each output note sequence will have. \n",
        "    steps_per_quarter:  int, number of steps in each quarter note.\n",
        "  Return\n",
        "    np.array[NoteSequences] - output of note sequences of length \n",
        "                              bars_per_split*16\n",
        "  \"\"\"\n",
        "  quantized_seq = mm.quantize_note_sequence(note_sequence, steps_per_quarter)\n",
        "  # Copy QNS into it's own note_sequences, and clear out its notes. We \n",
        "  # are going to iterate over the notes until we hit split boundaries. \n",
        "  # Once we hit a boundary, we split any ongoing notes in two, one for\n",
        "  # the new QNS we have been collecting and one for the new one we will \n",
        "  # make. Once the bar is completed, we will createa PianorollSequence\n",
        "  # from it, and start on the next bar. \n",
        "  step_per_split = int(steps_per_quarter*4) * bars_per_split\n",
        "  split_steps = range(0, quantized_seq.total_quantized_steps, step_per_split)\n",
        "  current_split = 0\n",
        "  steps_per_quarter = quantized_seq.quantization_info.steps_per_quarter \n",
        "  qns = new_note_sequence(steps_per_quarter, step_per_split)\n",
        "  pianoroll_seqs = []\n",
        "  extended_notes = new_note_sequence(steps_per_quarter, step_per_split)\n",
        "  for note in quantized_seq.notes:\n",
        "    if note.quantized_start_step >= split_steps[current_split] + step_per_split: \n",
        "      # End of split sections. Close up QNS and set up next split.\n",
        "      pianoroll_seqs.append(copy.deepcopy(qns))\n",
        "      qns = extended_notes\n",
        "      extended_notes = new_note_sequence(steps_per_quarter, step_per_split)\n",
        "      current_split += 1\n",
        "\n",
        "    if note.quantized_end_step >= split_steps[current_split] + step_per_split:\n",
        "      # Note extends past this split. Split the note into two notes. Add note\n",
        "      # from note.start_step to end of current split. Save note from start of \n",
        "      # next split to note.end_step\n",
        "      first_half = qns.notes.add()\n",
        "      first_half.pitch = note.pitch\n",
        "      first_half.quantized_start_step = note.quantized_start_step - split_steps[current_split] \n",
        "      first_half.quantized_end_step = step_per_split\n",
        "\n",
        "      second_half = extended_notes.notes.add()\n",
        "      second_half.pitch = note.pitch\n",
        "      second_half.quantized_start_step = 0\n",
        "      second_half.quantized_end_step = note.quantized_end_step - split_steps[current_split] \n",
        "    else:\n",
        "      # This is the normal route, where we just copy the note from the\n",
        "      # sequence into the new one.\n",
        "      new_note = qns.notes.add()\n",
        "      new_note.pitch = note.pitch\n",
        "      new_note.quantized_start_step = note.quantized_start_step - split_steps[current_split] \n",
        "      new_note.quantized_end_step = note.quantized_end_step - split_steps[current_split] \n",
        "  pianoroll_seqs.append(copy.deepcopy(qns))\n",
        "\n",
        "  return pianoroll_seqs\n",
        "\n",
        "def midi_to_pianoroll(midi_filename):\n",
        "  \"\"\"Converts Midi Files into np.arrays and concats them.\n",
        "  \n",
        "  The arrays have the following types:\n",
        "  active, weights, onsets, onset_velocities, active_velocities, offsets, \n",
        "  control_changes\n",
        "  \n",
        "  Args:\n",
        "    midi_filename: string, filename\n",
        "  Returns: \n",
        "    np.array - train tensor (33, 128, 7)\n",
        "  \"\"\"\n",
        "  midi_file = pretty_midi.PrettyMIDI(midi_filename)\n",
        "  note_seq = mm.midi_to_sequence_proto(midi_file)\n",
        "  split_note_seqs = split_note_sequences(note_seq)\n",
        "  final_array = []\n",
        "  for note_seq in split_note_seqs:\n",
        "    # This outputs (33, 128, 7) It's 33 instead of 32 because it adds an end \n",
        "    # token at the end of every sequence.\n",
        "    pnt = seq_lib.sequence_to_pianoroll(\n",
        "        note_seq, 2, data.MIN_MIDI_PITCH, data.MAX_MIDI_PITCH)\n",
        "    # t_list = [pnt.active, pnt.weights, pnt.onsets, \n",
        "    #                               pnt.onset_velocities, pnt.active_velocities, \n",
        "    #                               pnt.offsets, pnt.control_changes]\n",
        "    t_list = [pnt.onsets]                                  \n",
        "    final_array.append(np.concatenate(t_list, axis=-1))\n",
        "  return np.array(final_array)\n",
        "\n",
        "def pianoroll_to_notes(pianoroll, opt_midi_file_name=\"\"):\n",
        "  \"\"\"Helper to obtain note_seq.\"\"\"\n",
        "  note_seq = seq_lib.pianoroll_to_note_sequence(piano_roll, 2, 0)\n",
        "  if opt_midi_file_name != \"\":\n",
        "    download(note_seq, opt_midi_file_name)\n",
        "  return note_seq\n",
        "\n",
        "def load_midi_data_from_midi_files(filenames):\n",
        "  \"\"\"Loads files.\n",
        "  Args:\n",
        "    filenames: list of strings, midi filenames\n",
        "  Returns: \n",
        "    pandas dataframe.\"\"\"\n",
        "  tensor_dict = collections.OrderedDict()\n",
        "  index_array = []\n",
        "  i = 0\n",
        "  for mn in filenames:\n",
        "    tensor_dict[mn]=midi_to_pianoroll(PATH_PREFIX+mn)\n",
        "    index_array.append(i)\n",
        "    i=i+1\n",
        "  return tensor_dict\n"
      ],
      "execution_count": 0,
      "outputs": []
    },
    {
      "cell_type": "code",
      "metadata": {
        "id": "DUof4ihI20lw",
        "colab_type": "code",
        "colab": {}
      },
      "source": [
        "#@Title Define the VAE\n",
        "def Encoder(x, input_dim, hidden_dim, latent_dim, epsilon_std):\n",
        "    # LSTM encoding\n",
        "    h = Bidirectional(LSTM(hidden_dim,  return_sequences=True))(x)\n",
        "    h = Bidirectional(LSTM(hidden_dim, ))(h)\n",
        "    \n",
        "\n",
        "    # VAE Z layer\n",
        "    z_mean = Dense(latent_dim)(h)\n",
        "    z_log_sigma = Dense(latent_dim)(h)\n",
        "    \n",
        "    def sampling(args):\n",
        "        z_mean, z_log_sigma = args\n",
        "        # Note that this batch size DOES NOT correlate with the batch size in \n",
        "        # the data generator classes.\n",
        "        def grab_normal(unused_arg):\n",
        "          return K.random_normal(shape=(latent_dim,), mean=0., stddev=epsilon_std)\n",
        "        epsilon = K.map_fn(grab_normal, z_log_sigma, dtype=tf.float32)\n",
        "\n",
        "        return z_mean + z_log_sigma * epsilon\n",
        "\n",
        "    # note that \"output_shape\" isn't necessary with the TensorFlow backend\n",
        "    # so you could write `Lambda(sampling)([z_mean, z_log_sigma])`\n",
        "    z = Lambda(sampling, output_shape=(latent_dim,))([z_mean, z_log_sigma])\n",
        "    \n",
        "    return Model(x, z_mean), z_mean, z_log_sigma, z  \n",
        "\n",
        "def Decoder(z, timesteps, input_dim, hidden_dim, latent_dim):\n",
        "    # Making reusable layers for botht the generator model and the VAE model\n",
        "    decoder_h_1 = LSTM(hidden_dim, return_sequences=True)\n",
        "    decoder_h_2 = LSTM(hidden_dim, return_sequences=True)\n",
        "    decoder_mean = LSTM(input_dim, return_sequences=True)\n",
        "\n",
        "    # VAE model\n",
        "    h_decoded = RepeatVector(timesteps)(z)\n",
        "    h_decoded = decoder_h_1(h_decoded)\n",
        "    h_decoded = decoder_h_2(h_decoded)\n",
        "    x_decoded_mean = decoder_mean(h_decoded)\n",
        "    \n",
        "    # generator, from latent space to reconstructed inputs\n",
        "    decoder_input = Input(shape=(latent_dim,))\n",
        "    _h_decoded = RepeatVector(timesteps)(decoder_input)\n",
        "    _h_decoded = decoder_h_1(_h_decoded)\n",
        "    _h_decoded = decoder_h_2(_h_decoded)\n",
        "    _x_decoded_mean = decoder_mean(_h_decoded)\n",
        "    decoder = Model(decoder_input, _x_decoded_mean)\n",
        "    \n",
        "    # return generator model and outputs for VAE to use\n",
        "    return decoder, x_decoded_mean\n",
        "    \n",
        "def VAE(input_dim, \n",
        "        timesteps,  \n",
        "        hidden_dim, \n",
        "        latent_dim,\n",
        "        epsilon_std=1.,\n",
        "        compile=True):\n",
        "    # Create 3 models, encoder, decoder, and the full VAE. They all share the \n",
        "    # same weights so I can use them all. \n",
        "    \n",
        "    # Creating input everyone can use.\n",
        "    x = Input(shape=(timesteps, input_dim,))\n",
        "    \n",
        "    # Pull encoder and decoder with variables we need.\n",
        "    encoder, z_mean, z_log_sigma, z = Encoder(x, input_dim, hidden_dim, latent_dim, epsilon_std)\n",
        "    decoder, x_decoded_mean = Decoder(z, timesteps, input_dim, hidden_dim, latent_dim)\n",
        "    \n",
        "    # Make VAE model\n",
        "    vae = Model(x, x_decoded_mean)\n",
        "    \n",
        "    # Describe the loss function\n",
        "    def vae_loss(x, x_decoded_mean):\n",
        "        # Loss between x and reconstructed x.\n",
        "        xent_loss = losses.binary_crossentropy(x, x_decoded_mean)\n",
        "        # Divergence between z and a guassian function. \n",
        "        kl_loss = - 0.5 * K.mean(1 + z_log_sigma - K.square(z_mean) - K.exp(z_log_sigma))\n",
        "        loss = xent_loss + 0.1 * kl_loss\n",
        "        return loss\n",
        "\n",
        "    if compile:\n",
        "      vae.compile(optimizer='rmsprop', loss=vae_loss)\n",
        "      \n",
        "    return vae, encoder, decoder"
      ],
      "execution_count": 0,
      "outputs": []
    },
    {
      "cell_type": "code",
      "metadata": {
        "id": "ZnSg7g13akmp",
        "colab_type": "code",
        "outputId": "c870c0a9-c82a-4869-d3a5-6e1c9082d7e0",
        "colab": {
          "base_uri": "https://localhost:8080/",
          "height": 88
        }
      },
      "source": [
        "vae, enc, dec = VAE(input_dim=128, \n",
        "    timesteps=33, \n",
        "    hidden_dim=64,\n",
        "    latent_dim=64,\n",
        "    epsilon_std=1.,\n",
        "    compile=False)\n",
        "\n",
        "vae.load_weights(\"model_bilstm_weights.h5\")\n",
        "enc.load_weights(\"encoder_bilstm_weights.h5\")\n",
        "dec.load_weights(\"decoder_bilstm_weights.h5\")"
      ],
      "execution_count": 6,
      "outputs": [
        {
          "output_type": "stream",
          "text": [
            "WARNING:tensorflow:From /usr/local/lib/python2.7/dist-packages/tensorflow/python/framework/op_def_library.py:263: colocate_with (from tensorflow.python.framework.ops) is deprecated and will be removed in a future version.\n",
            "Instructions for updating:\n",
            "Colocations handled automatically by placer.\n"
          ],
          "name": "stdout"
        }
      ]
    },
    {
      "cell_type": "code",
      "metadata": {
        "id": "18lWV_5G4Vcu",
        "colab_type": "code",
        "colab": {
          "base_uri": "https://localhost:8080/",
          "height": 51
        },
        "outputId": "b7c89e71-bc83-4601-ac06-c342fdb8ebd3"
      },
      "source": [
        "!ls"
      ],
      "execution_count": 7,
      "outputs": [
        {
          "output_type": "stream",
          "text": [
            " decoder_bilstm_weights.h5  'model_bilstm_weights (1).h5'   MusicNST\n",
            " encoder_bilstm_weights.h5   model_bilstm_weights.h5\t    sample_data\n"
          ],
          "name": "stdout"
        }
      ]
    },
    {
      "cell_type": "code",
      "metadata": {
        "id": "MJNNeH5X_L8w",
        "colab_type": "code",
        "colab": {
          "resources": {
            "http://localhost:8080/nbextensions/google.colab/files.js": {
              "data": "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",
              "ok": true,
              "headers": [
                [
                  "content-type",
                  "application/javascript"
                ]
              ],
              "status": 200,
              "status_text": ""
            }
          },
          "base_uri": "https://localhost:8080/",
          "height": 57
        },
        "outputId": "8dd9c3e9-8343-4c65-b60e-e96ee90d485d"
      },
      "source": [
        "files.upload()"
      ],
      "execution_count": 8,
      "outputs": [
        {
          "output_type": "display_data",
          "data": {
            "text/plain": [
              "<IPython.core.display.HTML object>"
            ],
            "text/html": [
              "\n",
              "     <input type=\"file\" id=\"files-2e26d786-7f9e-43a3-975f-25e5f6502db4\" name=\"files[]\" multiple disabled />\n",
              "     <output id=\"result-2e26d786-7f9e-43a3-975f-25e5f6502db4\">\n",
              "      Upload widget is only available when the cell has been executed in the\n",
              "      current browser session. Please rerun this cell to enable.\n",
              "      </output>\n",
              "      <script src=\"/nbextensions/google.colab/files.js\"></script> "
            ]
          },
          "metadata": {
            "tags": []
          }
        },
        {
          "output_type": "execute_result",
          "data": {
            "text/plain": [
              "{}"
            ]
          },
          "metadata": {
            "tags": []
          },
          "execution_count": 8
        }
      ]
    },
    {
      "cell_type": "code",
      "metadata": {
        "id": "crTZsZ5NcSM1",
        "colab_type": "code",
        "colab": {}
      },
      "source": [
        "class ComposerPredictorDataGenerator(Sequence):\n",
        "    \"\"\"Generates data for Keras from MIDI files\"\"\"\n",
        "    def __init__(self, list_IDs, labels, batch_size=8, dim=(33, 896),\n",
        "                 shuffle=True, bars_per_split=2):\n",
        "        \"\"\"Initialization\"\"\"\n",
        "        self.dim = dim\n",
        "        self.labels = labels\n",
        "        self.batch_size = batch_size # Number of FILES to read in at one time\n",
        "        self.list_IDs = list_IDs\n",
        "        self.shuffle = shuffle\n",
        "        self.bars_per_split = bars_per_split\n",
        "        self.on_epoch_end()\n",
        "\n",
        "    def __len__(self):\n",
        "        \"\"\"Denotes the number of batches per epoch\"\"\"\n",
        "        return int(np.floor(len(self.list_IDs) / self.batch_size))\n",
        "\n",
        "    def __getitem__(self, index):\n",
        "        \"\"\"Generate one batch of data\"\"\"\n",
        "        # Generate indexes of the batch\n",
        "        indexes = self.indexes[index*self.batch_size:(index+1)*self.batch_size]\n",
        "\n",
        "        # Find list of IDs\n",
        "        list_IDs_temp = [self.list_IDs[k] for k in indexes]\n",
        "\n",
        "        # Generate data\n",
        "        X, y = self.__data_generation(list_IDs_temp)\n",
        "        \n",
        "        return X, y\n",
        "\n",
        "    def on_epoch_end(self):\n",
        "        \"\"\"Updates indexes after each epoch\"\"\"\n",
        "        self.indexes = np.arange(len(self.list_IDs))\n",
        "        if self.shuffle == True:\n",
        "            np.random.shuffle(self.indexes)\n",
        "\n",
        "    def __data_generation(self, list_IDs_temp):\n",
        "        \"\"\"Generates data containing batch_size samples\"\"\" # X : (n_samples, *dim)\n",
        "        # Initialization\n",
        "        X = []\n",
        "        y = []\n",
        "\n",
        "        # Generate data\n",
        "        loaded_data = load_midi_data_from_midi_files(list_IDs_temp)\n",
        "        for i, ID in enumerate(list_IDs_temp):\n",
        "            # Store sample. We grab many samples from one midi. So we concat \n",
        "            # everything in the batch dimension. Even though we have a batch \n",
        "            # size of eight, we mean we are reading in 8 files. We split the \n",
        "            # midi at 2 bar increments, then each of split split will be apart \n",
        "            # of the batch.\n",
        "            X_data = loaded_data[ID]\n",
        "            X.append(X_data) \n",
        "            # If we wanted to store a labe, we would do it here.\n",
        "            for _ in range(X_data.shape[0]):\n",
        "              y.append(self.labels[ID])\n",
        "        X = np.concatenate(X, axis=0)\n",
        "        X = X[:BATCH_SIZE,:,:]\n",
        "        Y = np.eye(NUM_UNIQUE_COMPOSERS)[y]\n",
        "        Y = Y[:BATCH_SIZE,:]\n",
        "        return X, Y"
      ],
      "execution_count": 0,
      "outputs": []
    },
    {
      "cell_type": "code",
      "metadata": {
        "id": "KeR_OefFd2Le",
        "colab_type": "code",
        "colab": {}
      },
      "source": [
        "##@title Make data generators\n",
        "df = pd.read_csv(\"MusicNST/midi_files/maestro-v1.0.0/maestro-v1.0.0.csv\", \n",
        "                 usecols=[DF_COMPOSER,DF_SPLIT,DF_FNAME])\n",
        "# unique_composers = df[DF_COMPOSER].unique()\n",
        "# NUM_UNIQUE_COMPOSERS = len(unique_composers)\n",
        "n=4\n",
        "unique_composers = df[DF_COMPOSER].value_counts()[:n].index.tolist()\n",
        "NUM_UNIQUE_COMPOSERS = len(unique_composers)\n",
        "\n",
        "df_comp = pd.DataFrame(data={\n",
        "    DF_COMPOSER_INDEX: range(len(unique_composers))},\n",
        "                      index=unique_composers)\n",
        "\n",
        "df = df.join(df_comp, on=DF_COMPOSER, how='inner')\n",
        "df = df[[DF_SPLIT, DF_FNAME, DF_COMPOSER_INDEX]]\n",
        "\n",
        "# Make test/train/validation split from our csv file will contain our golden\n",
        "# ie the composer and the midi_filename\n",
        "train_split = df.loc[df[DF_SPLIT]==\"train\"]\n",
        "# train_split = train_split[[DF_FNAME]]\n",
        "train_filenames = train_split[DF_FNAME].tolist()\n",
        "train_labels = dict()\n",
        "for a, b in zip(train_filenames, train_split[DF_COMPOSER_INDEX].tolist()):\n",
        "  train_labels[a]=b\n",
        "train_generator = ComposerPredictorDataGenerator(train_filenames, train_labels)\n",
        "\n",
        "\n",
        "validation_split = df.loc[df[DF_SPLIT]==\"validation\"]\n",
        "# validation_split = validation_split[[DF_FNAME]]\n",
        "validation_filenames = validation_split[DF_FNAME].tolist()\n",
        "validation_labels = dict()\n",
        "for a, b in zip(validation_filenames, validation_split[DF_COMPOSER_INDEX].tolist()):\n",
        "  validation_labels[a]=b\n",
        "validation_generator = ComposerPredictorDataGenerator(validation_filenames, validation_labels)\n",
        "\n",
        "test_split = df.loc[df[DF_SPLIT]==\"test\"]\n",
        "# test_split = test_split[[DF_FNAME]]\n",
        "test_filenames = test_split[DF_FNAME].tolist()\n",
        "test_labels = dict()\n",
        "for a, b in zip(test_filenames, test_split[DF_COMPOSER_INDEX].tolist()):\n",
        "  test_labels[a]=b\n",
        "test_generator = ComposerPredictorDataGenerator(test_filenames, test_labels)\n"
      ],
      "execution_count": 0,
      "outputs": []
    },
    {
      "cell_type": "code",
      "metadata": {
        "id": "gdXuvYmwd3fb",
        "colab_type": "code",
        "colab": {}
      },
      "source": [
        "#@Title Model \n",
        "\n",
        "def get_model(shape, use_batchnorm=False, use_dropout=False, fixed_model=None):\n",
        "  ip = Input(batch_shape=shape)\n",
        "  if fixed_model: \n",
        "    ip = Lambda(lambda x: K.expand_dims(x, axis=-1))(fixed_model.layers[-1].output)\n",
        "    print ip.shape\n",
        "  layer_2 = ip\n",
        "  if use_batchnorm:\n",
        "    layer_2 = BatchNormalization(axis=-1)(layer_2)\n",
        "  layer_2 = Convolution1D(filters=64, kernel_size=32, activation='elu', padding='same')(layer_2)\n",
        "  if use_dropout:\n",
        "    layer_2 = Dropout(rate=0.1)(layer_2)\n",
        "  layer_2 = Convolution1D(filters=16, kernel_size=8, activation='elu', padding='same')(layer_2)\n",
        "  layer_2 = Convolution1D(filters=1, kernel_size=4, activation='elu', padding='same')(layer_2)\n",
        "  layer_2 = Lambda(lambda x: K.squeeze(x, axis=-1))(layer_2)\n",
        "  dense_1 = Dense(units=256, activation='elu')(layer_2)\n",
        "  if use_dropout:\n",
        "    layer_2 = Dropout(rate=0.1)(layer_2)\n",
        "  dense_1 = Dense(units=32, activation='elu')(dense_1)\n",
        "  dense_1 = Dense(units=NUM_UNIQUE_COMPOSERS, activation='elu')(dense_1)\n",
        "  dense_1 = Dense(units=NUM_UNIQUE_COMPOSERS, activation='softmax')(dense_1)\n",
        "  if fixed_model:\n",
        "    return Model(fixed_model.layers[0].input, dense_1)\n",
        "  return Model(ip, dense_1)\n",
        "\n",
        "def ComposerClassifier(fixed_model=None):\n",
        "  composer_model = get_model([BATCH_SIZE, 50, 64], use_batchnorm=False, use_dropout=False, fixed_model=fixed_model)\n",
        "  composer_model.compile(loss='categorical_crossentropy', optimizer='adam', metrics=['accuracy'])\n",
        "  return composer_model"
      ],
      "execution_count": 0,
      "outputs": []
    },
    {
      "cell_type": "code",
      "metadata": {
        "id": "pGEdBDMqkqTC",
        "colab_type": "code",
        "colab": {
          "base_uri": "https://localhost:8080/",
          "height": 34
        },
        "outputId": "5b05c79b-e268-4a37-d6b1-e5fc3394086e"
      },
      "source": [
        "for layer in enc.layers:\n",
        "  layer.trainable = False\n",
        "model = ComposerClassifier(enc)"
      ],
      "execution_count": 20,
      "outputs": [
        {
          "output_type": "stream",
          "text": [
            "(?, 64, 1)\n"
          ],
          "name": "stdout"
        }
      ]
    },
    {
      "cell_type": "code",
      "metadata": {
        "id": "KL3xtXaFklHW",
        "colab_type": "code",
        "outputId": "48cf9af9-b10c-4f19-f491-764a3a077c00",
        "colab": {
          "base_uri": "https://localhost:8080/",
          "height": 479
        }
      },
      "source": [
        "#@title Train model on dataset\n",
        "history = model.fit_generator(generator=train_generator,\n",
        "                    validation_data=validation_generator,\n",
        "                    use_multiprocessing=True,\n",
        "                    epochs=10,\n",
        "                    workers=8)\n",
        "\n",
        "print model.evaluate_generator(generator=test_generator,\n",
        "                         use_multiprocessing=True,\n",
        "                         workers=8)"
      ],
      "execution_count": 21,
      "outputs": [
        {
          "output_type": "stream",
          "text": [
            "WARNING:tensorflow:From /usr/local/lib/python2.7/dist-packages/tensorflow/python/ops/math_ops.py:3066: to_int32 (from tensorflow.python.ops.math_ops) is deprecated and will be removed in a future version.\n",
            "Instructions for updating:\n",
            "Use tf.cast instead.\n",
            "Epoch 1/10\n",
            "65/65 [==============================] - 229s 4s/step - loss: 1.4098 - acc: 0.3766 - val_loss: 1.4901 - val_acc: 0.2267\n",
            "Epoch 2/10\n",
            "65/65 [==============================] - 222s 3s/step - loss: 1.3379 - acc: 0.3538 - val_loss: 1.4949 - val_acc: 0.0533\n",
            "Epoch 3/10\n",
            "65/65 [==============================] - 268s 4s/step - loss: 1.3602 - acc: 0.2972 - val_loss: 1.5768 - val_acc: 0.2400\n",
            "Epoch 4/10\n",
            "64/65 [============================>.] - ETA: 5s - loss: 1.3427 - acc: 0.3291 Epoch 4/10\n",
            "65/65 [==============================] - 332s 5s/step - loss: 1.3481 - acc: 0.3240 - val_loss: 1.4246 - val_acc: 0.4467\n",
            "Epoch 5/10\n",
            "65/65 [==============================] - 327s 5s/step - loss: 1.3763 - acc: 0.2831 - val_loss: 1.3838 - val_acc: 0.1800\n",
            "Epoch 6/10\n",
            "64/65 [============================>.] - ETA: 5s - loss: 1.3324 - acc: 0.3197 Epoch 6/10\n",
            "65/65 [==============================] - 326s 5s/step - loss: 1.3335 - acc: 0.3166 - val_loss: 1.3419 - val_acc: 0.3767\n",
            "Epoch 7/10\n",
            "65/65 [==============================] - 334s 5s/step - loss: 1.3663 - acc: 0.2871 - val_loss: 1.4177 - val_acc: 0.1900\n",
            "Epoch 8/10\n",
            "65/65 [==============================] - 339s 5s/step - loss: 1.2896 - acc: 0.3874 - val_loss: 1.4739 - val_acc: 0.1300\n",
            "Epoch 9/10\n",
            "65/65 [==============================] - 345s 5s/step - loss: 1.2932 - acc: 0.3785 - val_loss: 1.5990 - val_acc: 0.0667\n",
            "Epoch 10/10\n",
            "65/65 [==============================] - 349s 5s/step - loss: 1.3843 - acc: 0.2966 - val_loss: 1.2059 - val_acc: 0.3267\n",
            "[1.33892708165305, 0.40857143167938503]\n"
          ],
          "name": "stdout"
        }
      ]
    },
    {
      "cell_type": "code",
      "metadata": {
        "id": "UcHOsF1lrVAu",
        "colab_type": "code",
        "colab": {}
      },
      "source": [
        "from keras.utils import plot_model\n",
        "plot_model(enc, to_file='enc.png', show_layer_names=True)"
      ],
      "execution_count": 0,
      "outputs": []
    },
    {
      "cell_type": "code",
      "metadata": {
        "id": "-mQxgSbx5YcX",
        "colab_type": "code",
        "colab": {}
      },
      "source": [
        "from IPython.display import Image\n",
        "Image('enc.png')"
      ],
      "execution_count": 0,
      "outputs": []
    },
    {
      "cell_type": "code",
      "metadata": {
        "id": "myWwv9TM5pwX",
        "colab_type": "code",
        "colab": {}
      },
      "source": [
        "# Output and save composer with preprocessing\n",
        "model.save_weights(\"composer_with_preprocess.h5\")"
      ],
      "execution_count": 0,
      "outputs": []
    },
    {
      "cell_type": "code",
      "metadata": {
        "id": "MKRc-NNtkt9w",
        "colab_type": "code",
        "colab": {
          "base_uri": "https://localhost:8080/",
          "height": 295
        },
        "outputId": "dac9af77-65e7-458c-9c58-9ee209f5f22b"
      },
      "source": [
        "import matplotlib.pyplot as plt\n",
        "# Plot training & validation loss values\n",
        "plt.plot(history.history['loss'])\n",
        "plt.plot(history.history['val_loss'])\n",
        "plt.title('Model loss')\n",
        "plt.ylabel('Loss')\n",
        "plt.xlabel('Epoch')\n",
        "plt.legend(['Train', 'Test'], loc='upper left')\n",
        "plt.show()"
      ],
      "execution_count": 29,
      "outputs": [
        {
          "output_type": "display_data",
          "data": {
            "image/png": "[encoded data removed]",
            "text/plain": [
              "<Figure size 432x288 with 1 Axes>"
            ]
          },
          "metadata": {
            "tags": []
          }
        }
      ]
    },
    {
      "cell_type": "code",
      "metadata": {
        "id": "ZvCzu5PWlSOr",
        "colab_type": "code",
        "colab": {}
      },
      "source": [
        ""
      ],
      "execution_count": 0,
      "outputs": []
    }
  ]
}