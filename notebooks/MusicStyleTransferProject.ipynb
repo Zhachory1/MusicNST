{
  "nbformat": 4,
  "nbformat_minor": 0,
  "metadata": {
    "colab": {
      "name": "MusicStyleTransferProject.ipynb",
      "version": "0.3.2",
      "provenance": [],
      "collapsed_sections": [],
      "include_colab_link": true
    },
    "kernelspec": {
      "name": "python2",
      "display_name": "Python 2"
    },
    "accelerator": "GPU"
  },
  "cells": [
    {
      "cell_type": "markdown",
      "metadata": {
        "id": "view-in-github",
        "colab_type": "text"
      },
      "source": [
        "<a href=\"https://colab.research.google.com/github/Zhachory1/MusicNST/blob/master/MusicStyleTransferProject.ipynb\" target=\"_parent\"><img src=\"https://colab.research.google.com/assets/colab-badge.svg\" alt=\"Open In Colab\"/></a>"
      ]
    },
    {
      "cell_type": "code",
      "metadata": {
        "id": "n4a4OSs6VNnb",
        "colab_type": "code",
        "outputId": "74677474-efb6-4856-c504-0ae1f5ce2048",
        "cellView": "both",
        "colab": {
          "base_uri": "https://localhost:8080/",
          "height": 292
        }
      },
      "source": [
        "#@title Install Dependencies\n",
        "!pip install py-midi pretty_midi"
      ],
      "execution_count": 0,
      "outputs": [
        {
          "output_type": "stream",
          "text": [
            "Collecting py-midi\n",
            "  Downloading https://files.pythonhosted.org/packages/c7/c4/4b0db4cb669bbe180f0d22d9000cabbd4f0811d364819a25627c18eaec47/py-midi-1.2.5.tar.gz\n",
            "Requirement already satisfied: pretty_midi in /usr/local/lib/python2.7/dist-packages (0.2.8)\n",
            "Collecting pyserial (from py-midi)\n",
            "\u001b[?25l  Downloading https://files.pythonhosted.org/packages/0d/e4/2a744dd9e3be04a0c0907414e2a01a7c88bb3915cbe3c8cc06e209f59c30/pyserial-3.4-py2.py3-none-any.whl (193kB)\n",
            "\u001b[K     |████████████████████████████████| 194kB 46.3MB/s \n",
            "\u001b[?25hRequirement already satisfied: six in /usr/local/lib/python2.7/dist-packages (from pretty_midi) (1.12.0)\n",
            "Requirement already satisfied: numpy>=1.7.0 in /usr/local/lib/python2.7/dist-packages (from pretty_midi) (1.16.3)\n",
            "Requirement already satisfied: mido>=1.1.16 in /usr/local/lib/python2.7/dist-packages (from pretty_midi) (1.2.6)\n",
            "Building wheels for collected packages: py-midi\n",
            "  Building wheel for py-midi (setup.py) ... \u001b[?25l\u001b[?25hdone\n",
            "  Stored in directory: /root/.cache/pip/wheels/65/4d/a3/f8e50d46e7245398bf625c0b7e640e796b82253539b30a4e74\n",
            "Successfully built py-midi\n",
            "Installing collected packages: pyserial, py-midi\n",
            "Successfully installed py-midi-1.2.5 pyserial-3.4\n"
          ],
          "name": "stdout"
        }
      ]
    },
    {
      "cell_type": "code",
      "metadata": {
        "id": "S_JvO29YNynR",
        "colab_type": "code",
        "cellView": "both",
        "outputId": "d5608e21-c2d0-4300-c315-98a83306ad93",
        "colab": {
          "base_uri": "https://localhost:8080/",
          "height": 34
        }
      },
      "source": [
        "#@title Import Libraries\n",
        "import numpy as np\n",
        "import time\n",
        "import argparse\n",
        "import warnings\n",
        "import midi\n",
        "import pretty_midi\n",
        "\n",
        "from scipy.optimize import fmin_l_bfgs_b\n",
        "from scipy.misc import imread, imresize, imsave, fromimage, toimage\n",
        "\n",
        "\n",
        "from keras.models import Model\n",
        "from keras.layers import Input\n",
        "from keras.layers.convolutional import Convolution2D, AveragePooling2D, MaxPooling2D\n",
        "from keras import backend as K\n",
        "from keras.utils.data_utils import get_file\n",
        "from keras.utils.layer_utils import convert_all_kernels_in_model  "
      ],
      "execution_count": 0,
      "outputs": [
        {
          "output_type": "stream",
          "text": [
            "Using TensorFlow backend.\n"
          ],
          "name": "stderr"
        }
      ]
    },
    {
      "cell_type": "code",
      "metadata": {
        "id": "7VEQTenNUxP-",
        "colab_type": "code",
        "cellView": "form",
        "colab": {}
      },
      "source": [
        "#@title Load VGG Model \n",
        "TF_WEIGHTS_PATH_NO_TOP = 'https://github.com/fchollet/deep-learning-models/releases/download/v0.1/vgg16_weights_tf_dim_ordering_tf_kernels_notop.h5'\n",
        "TF_19_WEIGHTS_PATH_NO_TOP = 'https://github.com/fchollet/deep-learning-models/releases/download/v0.1/vgg19_weights_tf_dim_ordering_tf_kernels_notop.h5'"
      ],
      "execution_count": 0,
      "outputs": []
    },
    {
      "cell_type": "code",
      "metadata": {
        "id": "-7SMwAToVfgA",
        "colab_type": "code",
        "cellView": "both",
        "colab": {}
      },
      "source": [
        "#@title Global Params\n",
        "result_prefix = \"\"\n",
        "style_masks = None\n",
        "content_mask = None\n",
        "color_mask = None\n",
        "content_weight = 0.025\n",
        "style_weight = [1.0]\n",
        "style_scale =1.0\n",
        "total_variation_weight = 8.5e-5\n",
        "num_iter = 100\n",
        "model = \"vgg16\"\n",
        "content_loss_type = 0\n",
        "rescale_image = \"False\"\n",
        "rescale_method =\"bilinear\"\n",
        "content_layer =\"conv5_2\"\n",
        "init_image = \"content\"\n",
        "pooltype = \"max\"\n",
        "preserve_color = \"False\"\n",
        "min_improvement = 0.0\n",
        "pooltype = 1 if pooltype == \"ave\" else 0\n",
        "# dimensions of the generated picture.\n",
        "input_width = input_height = 0\n",
        "input_WIDTH = input_HEIGHT = 0\n",
        "aspect_ratio = 2\n",
        "\n",
        "music_size = 128"
      ],
      "execution_count": 0,
      "outputs": []
    },
    {
      "cell_type": "code",
      "metadata": {
        "id": "aiAVLOOcYLST",
        "colab_type": "code",
        "cellView": "both",
        "colab": {}
      },
      "source": [
        "#@title preprocess_preprocess_music_for_vgg_for_vgg \n",
        "#@markdown Util function to open, resize and format music into appropriate tensors\n",
        "def preprocess_music_for_vgg(music, load_dims=False):\n",
        "    global input_width, input_height, input_WIDTH, input_HEIGHT, aspect_ratio\n",
        "\n",
        "    # Expand the temporal music into a 3 channled tensor to complement VGG input\n",
        "    temp = np.zeros(music.shape + (3,), dtype=np.uint8)\n",
        "    temp[:, :, 0] = music\n",
        "    temp[:, :, 1] = music.copy()\n",
        "    temp[:, :, 2] = music.copy()\n",
        "\n",
        "    music = temp\n",
        "\n",
        "    if load_dims:\n",
        "        input_WIDTH = music.shape[0]\n",
        "        input_HEIGHT = music.shape[1]\n",
        "        aspect_ratio = float(input_HEIGHT) / input_WIDTH\n",
        "\n",
        "        input_width = music_size\n",
        "        input_height = int(input_width * aspect_ratio)\n",
        "\n",
        "    music = imresize(music, (input_width, input_height)).astype('float32')\n",
        "\n",
        "\n",
        "    music = np.expand_dims(music, axis=0)\n",
        "    return music"
      ],
      "execution_count": 0,
      "outputs": []
    },
    {
      "cell_type": "code",
      "metadata": {
        "id": "FPKwleFJYcIB",
        "colab_type": "code",
        "colab": {}
      },
      "source": [
        "# util function to preserve image color\n",
        "def original_color_transform(content, generated, mask=None):\n",
        "    generated = fromimage(toimage(generated, mode='RGB'), mode='YCbCr')  # Convert to YCbCr color space\n",
        "\n",
        "    if mask is None:\n",
        "        generated[:, :, 1:] = content[:, :, 1:]  # Generated CbCr = Content CbCr\n",
        "    else:\n",
        "        width, height, channels = generated.shape\n",
        "\n",
        "        for i in range(width):\n",
        "            for j in range(height):\n",
        "                if mask[i, j] == 1:\n",
        "                    generated[i, j, 1:] = content[i, j, 1:]\n",
        "\n",
        "    generated = fromimage(toimage(generated, mode='YCbCr'), mode='RGB')  # Convert to RGB color space\n",
        "    return generated"
      ],
      "execution_count": 0,
      "outputs": []
    },
    {
      "cell_type": "code",
      "metadata": {
        "id": "wYYvg5aSYli2",
        "colab_type": "code",
        "colab": {}
      },
      "source": [
        "def pooling_func(x):\n",
        "    if pooltype == 1:\n",
        "        return AveragePooling2D((2, 2), strides=(2, 2))(x)\n",
        "    else:\n",
        "        return MaxPooling2D((2, 2), strides=(2, 2))(x)"
      ],
      "execution_count": 0,
      "outputs": []
    },
    {
      "cell_type": "code",
      "metadata": {
        "id": "-3k6ZMIhZQWk",
        "colab_type": "code",
        "colab": {}
      },
      "source": [
        "def get_inputs(content_img, style_img):\n",
        "# Content Model\n",
        "  # get tensor representations of our images\n",
        "  base_image = K.variable(preprocess_music_for_vgg(content_img, True))\n",
        "\n",
        "  style_reference_images = []\n",
        "  style_reference_images.append(K.variable(preprocess_music_for_vgg(style_img)))\n",
        "\n",
        "  combination_image = K.placeholder((1, input_width, input_height, 3))\n",
        "\n",
        "  image_tensors = [base_image]\n",
        "  for style_image_tensor in style_reference_images:\n",
        "      image_tensors.append(style_image_tensor)\n",
        "  image_tensors.append(combination_image)\n",
        "\n",
        "  nb_tensors = len(image_tensors)\n",
        "  nb_style_images = nb_tensors - 2 # Content and Output image not considered\n",
        "\n",
        "  # combine the various images into a single Keras tensor\n",
        "  input_tensor = K.concatenate(image_tensors, axis=0)\n",
        "\n",
        "  print(\"nb_tensors\")\n",
        "  print(nb_tensors)\n",
        "  print(\"input_width\")\n",
        "  print(input_width)\n",
        "  print(\"input_height\")\n",
        "  print(input_height)  \n",
        "  if K.image_dim_ordering() == \"th\":\n",
        "      shape = (nb_tensors, 3, input_width, input_height)\n",
        "  else:\n",
        "      shape = (nb_tensors, input_width, input_height, 3)\n",
        "      \n",
        "  return input_tensor, shape, combination_image, nb_tensors   "
      ],
      "execution_count": 0,
      "outputs": []
    },
    {
      "cell_type": "code",
      "metadata": {
        "id": "VjzqMng0YoMF",
        "colab_type": "code",
        "colab": {}
      },
      "source": [
        "def get_model(input_tensor, shape):  \n",
        "  ip = Input(tensor=input_tensor, batch_shape=shape)\n",
        "\n",
        "  # build the VGG16 network with our 3 images as input\n",
        "  x = Convolution2D(64, (3, 3), activation='relu', name='conv1_1', padding='same')(ip)\n",
        "  x = Convolution2D(64, (3, 3), activation='relu', name='conv1_2', padding='same')(x)\n",
        "  x = pooling_func(x)\n",
        "\n",
        "  x = Convolution2D(128, (3, 3), activation='relu', name='conv2_1', padding='same')(x)\n",
        "  x = Convolution2D(128, (3, 3), activation='relu', name='conv2_2', padding='same')(x)\n",
        "  x = pooling_func(x)\n",
        "\n",
        "  x = Convolution2D(256, (3, 3), activation='relu', name='conv3_1', padding='same')(x)\n",
        "  x = Convolution2D(256, (3, 3), activation='relu', name='conv3_2', padding='same')(x)\n",
        "  x = Convolution2D(256, (3, 3), activation='relu', name='conv3_3', padding='same')(x)\n",
        "  if model == \"vgg19\":\n",
        "      x = Convolution2D(256, (3, 3), activation='relu', name='conv3_4', padding='same')(x)\n",
        "  x = pooling_func(x)\n",
        "\n",
        "  x = Convolution2D(512, (3, 3), activation='relu', name='conv4_1', padding='same')(x)\n",
        "  x = Convolution2D(512, (3, 3), activation='relu', name='conv4_2', padding='same')(x)\n",
        "  x = Convolution2D(512, (3, 3), activation='relu', name='conv4_3', padding='same')(x)\n",
        "  if model == \"vgg19\":\n",
        "      x = Convolution2D(512, (3, 3), activation='relu', name='conv4_4', padding='same')(x)\n",
        "  x = pooling_func(x)\n",
        "\n",
        "  x = Convolution2D(512, (3, 3), activation='relu', name='conv5_1', padding='same')(x)\n",
        "  x = Convolution2D(512, (3, 3), activation='relu', name='conv5_2', padding='same')(x)\n",
        "  x = Convolution2D(512, (3, 3), activation='relu', name='conv5_3', padding='same')(x)\n",
        "  if model == \"vgg19\":\n",
        "      x = Convolution2D(512, (3, 3), activation='relu', name='conv5_4', padding='same')(x)\n",
        "  x = pooling_func(x)\n",
        "\n",
        "  return Model(ip, x)"
      ],
      "execution_count": 0,
      "outputs": []
    },
    {
      "cell_type": "code",
      "metadata": {
        "id": "SJ1hseTF4r1G",
        "colab_type": "code",
        "colab": {}
      },
      "source": [
        "def get_custom_model(shape):\n",
        "  ip = Input(batch_shape=shape)\n",
        "  layer_2 = ip\n",
        "  if use_batchnorm:\n",
        "    layer_2 = BatchNormalization(axis=-1)(layer_2)\n",
        "  layer_2 = Convolution1D(filters=64, kernel_size=32, activation='elu', padding='same')(layer_2)\n",
        "  if use_dropout:\n",
        "    layer_2 = Dropout(rate=0.1)(layer_2)\n",
        "  layer_2 = Convolution1D(filters=16, kernel_size=8, activation='elu', padding='same')(layer_2)\n",
        "  layer_2 = Convolution1D(filters=1, kernel_size=4, activation='elu', padding='same')(layer_2)\n",
        "  layer_2 = Lambda(lambda x: backend.squeeze(x, axis=-1))(layer_2)\n",
        "  dense_1 = Dense(units=50, activation='elu')(layer_2)\n",
        "  if use_dropout:\n",
        "    layer_2 = Dropout(rate=0.1)(layer_2)\n",
        "  dense_1 = Dense(units=32, activation='elu')(dense_1)\n",
        "  dense_1 = Dense(units=NUM_UNIQUE_COMPOSERS, activation='elu')(dense_1)\n",
        "  dense_1 = Dense(units=NUM_UNIQUE_COMPOSERS, activation='softmax')(dense_1)\n",
        "  return Model(ip, dense_1)"
      ],
      "execution_count": 0,
      "outputs": []
    },
    {
      "cell_type": "code",
      "metadata": {
        "id": "pAER915hZ_XC",
        "colab_type": "code",
        "colab": {}
      },
      "source": [
        "def load_model(vgg_model):\n",
        "  if model == \"vgg19\":\n",
        "      weights = get_file('vgg19_weights_tf_dim_ordering_tf_kernels_notop.h5', TF_19_WEIGHTS_PATH_NO_TOP, cache_subdir='models')\n",
        "  else:\n",
        "      weights = get_file('vgg16_weights_tf_dim_ordering_tf_kernels_notop.h5', TF_WEIGHTS_PATH_NO_TOP, cache_subdir='models')\n",
        "\n",
        "  vgg_model.load_weights(weights)\n",
        "\n",
        "  if K.backend() == 'tensorflow' and K.image_dim_ordering() == \"th\":\n",
        "      warnings.warn('You are using the TensorFlow backend, yet you '\n",
        "                    'are using the Theano '\n",
        "                    'image dimension ordering convention '\n",
        "                    '(`image_dim_ordering=\"th\"`). '\n",
        "                    'For best performance, set '\n",
        "                    '`image_dim_ordering=\"tf\"` in '\n",
        "                    'your Keras config '\n",
        "                    'at ~/.keras/keras.json.')\n",
        "      convert_all_kernels_in_model(vgg_model)\n",
        "  print('Model loaded.')"
      ],
      "execution_count": 0,
      "outputs": []
    },
    {
      "cell_type": "code",
      "metadata": {
        "id": "tbT4XCzjaYw-",
        "colab_type": "code",
        "colab": {}
      },
      "source": [
        "def get_output_dict_and_shape(vgg_model):\n",
        "  # get the symbolic outputs of each \"key\" layer (we gave them unique names).\n",
        "  outputs_dict = dict([(layer.name, layer.output) for layer in vgg_model.layers])\n",
        "  shape_dict = dict([(layer.name, layer.output_shape) for layer in vgg_model.layers])\n",
        "  return outputs_dict, shape_dict"
      ],
      "execution_count": 0,
      "outputs": []
    },
    {
      "cell_type": "code",
      "metadata": {
        "id": "ZcveYQXBaoxc",
        "colab_type": "code",
        "colab": {}
      },
      "source": [
        "# the gram matrix of an image tensor (feature-wise outer product)\n",
        "def gram_matrix(x):\n",
        "#     assert K.ndim(x) == 3\n",
        "    if K.image_dim_ordering() == \"th\":\n",
        "        features = K.batch_flatten(x)\n",
        "    else:\n",
        "        features = K.batch_flatten(K.permute_dimensions(x, (2, 0, 1)))\n",
        "    gram = K.dot(features, K.transpose(features))\n",
        "    return gram"
      ],
      "execution_count": 0,
      "outputs": []
    },
    {
      "cell_type": "code",
      "metadata": {
        "id": "R0Pe48F9ayTz",
        "colab_type": "code",
        "colab": {}
      },
      "source": [
        "# the \"style loss\" is designed to maintain\n",
        "# the style of the reference image in the generated image.\n",
        "# It is based on the gram matrices (which capture style) of\n",
        "# feature maps from the style reference image\n",
        "# and from the generated image\n",
        "def style_loss(style, combination, mask_path=None, nb_channels=None):\n",
        "#     assert K.ndim(style) == 3\n",
        "#     assert K.ndim(combination) == 3\n",
        "\n",
        "    S = gram_matrix(style)\n",
        "    C = gram_matrix(combination)\n",
        "    channels = 3\n",
        "    size = input_width * input_height\n",
        "    return K.sum(K.square(S - C)) / (4. * (channels ** 2) * (size ** 2))"
      ],
      "execution_count": 0,
      "outputs": []
    },
    {
      "cell_type": "code",
      "metadata": {
        "id": "cG40aZVab0aQ",
        "colab_type": "code",
        "colab": {}
      },
      "source": [
        "# an auxiliary loss function\n",
        "# designed to maintain the \"content\" of the\n",
        "# base image in the generated image\n",
        "def content_loss(base, combination):\n",
        "    channel_dim = 0 if K.image_dim_ordering() == \"th\" else -1\n",
        "\n",
        "    try:\n",
        "        channels = K.int_shape(base)[channel_dim]\n",
        "    except TypeError:\n",
        "        channels = K.shape(base)[channel_dim]\n",
        "    size = input_width * input_height\n",
        "\n",
        "    if content_loss_type == 1:\n",
        "        multiplier = 1. / (2. * (channels ** 0.5) * (size ** 0.5))\n",
        "    elif content_loss_type == 2:\n",
        "        multiplier = 1. / (channels * size)\n",
        "    else:\n",
        "        multiplier = 1.\n",
        "\n",
        "    return multiplier * K.sum(K.square(combination - base))"
      ],
      "execution_count": 0,
      "outputs": []
    },
    {
      "cell_type": "code",
      "metadata": {
        "id": "ar7ZQltIb0u7",
        "colab_type": "code",
        "colab": {}
      },
      "source": [
        "# the 3rd loss function, total variation loss,\n",
        "# designed to keep the generated image locally coherent\n",
        "def total_variation_loss(x):\n",
        "    assert K.ndim(x) == 4\n",
        "    a = K.square(x[:, :input_width - 1, :input_height - 1, :] - x[:, 1:, :input_height - 1, :])\n",
        "    b = K.square(x[:, :input_width - 1, :input_height - 1, :] - x[:, :input_width - 1, 1:, :])\n",
        "    return K.sum(K.pow(a + b, 1.25))"
      ],
      "execution_count": 0,
      "outputs": []
    },
    {
      "cell_type": "code",
      "metadata": {
        "id": "Ke5TMvafcPXi",
        "colab_type": "code",
        "colab": {}
      },
      "source": [
        "def get_loss(outputs_dict, shape_dict, combination_image, nb_tensors):  \n",
        "  # combine these loss functions into a single scalar\n",
        "  loss = K.variable(0.)\n",
        "  layer_features = outputs_dict[content_layer]  # 'conv5_2' or 'conv4_2'\n",
        "  base_image_features = layer_features[0, :, :, :]\n",
        "  combination_features = layer_features[nb_tensors - 1, :, :, :]\n",
        "  loss = loss + content_weight * content_loss(base_image_features,\n",
        "                                        combination_features)\n",
        "  style_masks = [None] # If masks not present, pass None to the style loss\n",
        "\n",
        "  channel_index = 1 if K.image_dim_ordering() == \"th\" else -1\n",
        "  feature_layers = ['conv1_1', 'conv2_1', 'conv3_1', 'conv4_1', 'conv5_1']\n",
        "  for layer_name in feature_layers:\n",
        "      layer_features = outputs_dict[layer_name]\n",
        "      shape = shape_dict[layer_name]\n",
        "      combination_features = layer_features[nb_tensors - 1, :, :, :]\n",
        "\n",
        "      style_reference_features = layer_features[1:nb_tensors - 1, :, :, :]\n",
        "      sl = []\n",
        "      sl.append(style_loss(style_reference_features[0], combination_features, style_masks[0], shape))\n",
        "      loss = loss + (1 / len(feature_layers)) * sl[0]\n",
        "\n",
        "  loss = loss + total_variation_weight * total_variation_loss(combination_image)\n",
        "  return loss\n",
        "  \n",
        "def get_grad(loss, combination_image):\n",
        "  # get the gradients of the generated image wrt the loss\n",
        "  grads = K.gradients(loss, combination_image)\n",
        "  outputs = [loss]\n",
        "  if type(grads) in {list, tuple}:\n",
        "      outputs += grads\n",
        "  else:\n",
        "      outputs.append(grads)\n",
        "  return outputs"
      ],
      "execution_count": 0,
      "outputs": []
    },
    {
      "cell_type": "code",
      "metadata": {
        "id": "NtAtBwIwgGTe",
        "colab_type": "code",
        "colab": {}
      },
      "source": [
        "def eval_loss_and_grads(x, f_outputs):\n",
        "    x = x.reshape((1, input_width, input_height, 3))\n",
        "    outs = f_outputs([x])\n",
        "    loss_value = outs[0]\n",
        "    if len(outs[1:]) == 1:\n",
        "        grad_values = outs[1].flatten().astype('float64')\n",
        "    else:\n",
        "        grad_values = np.array(outs[1:]).flatten().astype('float64')\n",
        "    return loss_value, grad_values"
      ],
      "execution_count": 0,
      "outputs": []
    },
    {
      "cell_type": "code",
      "metadata": {
        "id": "J0hmGQVPgG6T",
        "colab_type": "code",
        "colab": {}
      },
      "source": [
        "# this Evaluator class makes it possible\n",
        "# to compute loss and gradients in one pass\n",
        "# while retrieving them via two separate functions,\n",
        "# \"loss\" and \"grads\". This is done because scipy.optimize\n",
        "# requires separate functions for loss and gradients,\n",
        "# but computing them separately would be inefficient.\n",
        "class Evaluator(object):\n",
        "    def __init__(self, f_outputs):\n",
        "        self.loss_value = None\n",
        "        self.grads_values = None\n",
        "        self.f_outputs = f_outputs\n",
        "\n",
        "    def loss(self, x):\n",
        "        assert self.loss_value is None\n",
        "        loss_value, grad_values = eval_loss_and_grads(x, self.f_outputs)\n",
        "        self.loss_value = loss_value\n",
        "        self.grad_values = grad_values\n",
        "        return self.loss_value\n",
        "\n",
        "    def grads(self, x):\n",
        "        assert self.loss_value is not None\n",
        "        grad_values = np.copy(self.grad_values)\n",
        "        self.loss_value = None\n",
        "        self.grad_values = None\n",
        "        return grad_values"
      ],
      "execution_count": 0,
      "outputs": []
    },
    {
      "cell_type": "markdown",
      "metadata": {
        "id": "3HcB2v9d5weX",
        "colab_type": "text"
      },
      "source": [
        "# MIDI time\n",
        "---\n",
        "\n"
      ]
    },
    {
      "cell_type": "code",
      "metadata": {
        "id": "AmLdhGyf5_so",
        "colab_type": "code",
        "outputId": "f3de1309-e845-4b18-eaee-fa3118954ae5",
        "colab": {
          "resources": {
            "http://localhost:8080/nbextensions/google.colab/files.js": {
              "data": "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",
              "ok": true,
              "headers": [
                [
                  "content-type",
                  "application/javascript"
                ]
              ],
              "status": 200,
              "status_text": ""
            }
          },
          "base_uri": "https://localhost:8080/",
          "height": 37
        }
      },
      "source": [
        "style_music = \"MIDI-Unprocessed_SMF_02_R1_2004_01-05_ORIG_MID--AUDIO_02_R1_2004_05_Track05_wav.midi\"\n",
        "\n",
        "from google.colab import files\n",
        "uploaded = files.upload()"
      ],
      "execution_count": 0,
      "outputs": [
        {
          "output_type": "display_data",
          "data": {
            "text/plain": [
              "<IPython.core.display.HTML object>"
            ],
            "text/html": [
              "\n",
              "     <input type=\"file\" id=\"files-3c3d6795-76d0-49f5-983e-957f86a7a5cf\" name=\"files[]\" multiple disabled />\n",
              "     <output id=\"result-3c3d6795-76d0-49f5-983e-957f86a7a5cf\">\n",
              "      Upload widget is only available when the cell has been executed in the\n",
              "      current browser session. Please rerun this cell to enable.\n",
              "      </output>\n",
              "      <script src=\"/nbextensions/google.colab/files.js\"></script> "
            ]
          },
          "metadata": {
            "tags": []
          }
        }
      ]
    },
    {
      "cell_type": "code",
      "metadata": {
        "id": "dUhd6oglf7Vg",
        "colab_type": "code",
        "outputId": "4be44707-fece-4359-f20f-e62d409fcfdf",
        "colab": {
          "resources": {
            "http://localhost:8080/nbextensions/google.colab/files.js": {
              "data": "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",
              "ok": true,
              "headers": [
                [
                  "content-type",
                  "application/javascript"
                ]
              ],
              "status": 200,
              "status_text": ""
            }
          },
          "base_uri": "https://localhost:8080/",
          "height": 37
        }
      },
      "source": [
        "content_music = \"MIDI-Unprocessed_083_PIANO083_MID--AUDIO-split_07-09-17_Piano-e_2_-06_wav--5.midi\"\n",
        "from google.colab import files\n",
        "uploaded = files.upload()"
      ],
      "execution_count": 0,
      "outputs": [
        {
          "output_type": "display_data",
          "data": {
            "text/plain": [
              "<IPython.core.display.HTML object>"
            ],
            "text/html": [
              "\n",
              "     <input type=\"file\" id=\"files-70ac6c05-11fa-4666-9dd7-9589c327f2f4\" name=\"files[]\" multiple disabled />\n",
              "     <output id=\"result-70ac6c05-11fa-4666-9dd7-9589c327f2f4\">\n",
              "      Upload widget is only available when the cell has been executed in the\n",
              "      current browser session. Please rerun this cell to enable.\n",
              "      </output>\n",
              "      <script src=\"/nbextensions/google.colab/files.js\"></script> "
            ]
          },
          "metadata": {
            "tags": []
          }
        }
      ]
    },
    {
      "cell_type": "code",
      "metadata": {
        "id": "rgoGGxAbfaLQ",
        "colab_type": "code",
        "colab": {}
      },
      "source": [
        "for fn in uploaded.keys():\n",
        "  print('User uploaded file \"{name}\" with length {length} bytes'.format(\n",
        "      name=fn, length=len(uploaded[fn])))"
      ],
      "execution_count": 0,
      "outputs": []
    },
    {
      "cell_type": "code",
      "metadata": {
        "id": "tmCAZbSqB9In",
        "colab_type": "code",
        "colab": {}
      },
      "source": [
        "def get_music(path):\n",
        "  midi_pretty_format = pretty_midi.PrettyMIDI(path)\n",
        "  piano_midi = midi_pretty_format.instruments[0] # Get the piano channels\n",
        "  piano_roll = piano_midi.get_piano_roll(fs=5)\n",
        "  piano_roll=piano_roll[:,:256]\n",
        "  return piano_roll"
      ],
      "execution_count": 0,
      "outputs": []
    },
    {
      "cell_type": "code",
      "metadata": {
        "id": "69Zsvlawq_20",
        "colab_type": "code",
        "colab": {}
      },
      "source": [
        "def piano_roll_to_pretty_midi(piano_roll, fs=5, program=0):\n",
        "    '''Convert a Piano Roll array into a PrettyMidi object\n",
        "     with a single instrument.\n",
        "    Parameters\n",
        "    ----------\n",
        "    piano_roll : np.ndarray, shape=(128,frames), dtype=int\n",
        "        Piano roll of one instrument\n",
        "    fs : int\n",
        "        Sampling frequency of the columns, i.e. each column is spaced apart\n",
        "        by ``1./fs`` seconds.\n",
        "    program : int\n",
        "        The program number of the instrument.\n",
        "    Returns\n",
        "    -------\n",
        "    midi_object : pretty_midi.PrettyMIDI\n",
        "        A pretty_midi.PrettyMIDI class instance describing\n",
        "        the piano roll.\n",
        "    '''\n",
        "    notes, frames = piano_roll.shape\n",
        "    pm = pretty_midi.PrettyMIDI()\n",
        "    instrument = pretty_midi.Instrument(program=program)\n",
        "\n",
        "    # pad 1 column of zeros so we can acknowledge inital and ending events\n",
        "    piano_roll = np.pad(piano_roll, [(0, 0), (1, 1)], 'constant')\n",
        "\n",
        "    # use changes in velocities to find note on / note off events\n",
        "    velocity_changes = np.nonzero(np.diff(piano_roll).T)\n",
        "\n",
        "    # keep track on velocities and note on times\n",
        "    prev_velocities = np.zeros(notes, dtype=int)\n",
        "    note_on_time = np.zeros(notes)\n",
        "\n",
        "    for time, note in zip(*velocity_changes):\n",
        "        # use time + 1 because of padding above\n",
        "        velocity = piano_roll[note, time + 1]\n",
        "        time = time / fs\n",
        "        if velocity > 0:\n",
        "            if prev_velocities[note] == 0:\n",
        "                note_on_time[note] = time\n",
        "                prev_velocities[note] = velocity\n",
        "        else:\n",
        "            pm_note = pretty_midi.Note(\n",
        "                velocity=prev_velocities[note],\n",
        "                pitch=note,\n",
        "                start=note_on_time[note],\n",
        "                end=time)\n",
        "            instrument.notes.append(pm_note)\n",
        "            prev_velocities[note] = 0\n",
        "    pm.instruments.append(instrument)\n",
        "    return pm"
      ],
      "execution_count": 0,
      "outputs": []
    },
    {
      "cell_type": "code",
      "metadata": {
        "id": "AuIYxIpXtpkD",
        "colab_type": "code",
        "colab": {}
      },
      "source": [
        "def deprocess_music(x):\n",
        "    x = x.reshape((input_width, input_height, 3))\n",
        "\n",
        "    # BGR -> RGB\n",
        "    x = x[:, :, ::-1]\n",
        "\n",
        "    x = np.clip(x, 0, 100).astype('uint8')\n",
        "    x = np.where(x < 5, 0, x)\n",
        "    \n",
        "    x = x[:, :, 0]\n",
        "    return x"
      ],
      "execution_count": 0,
      "outputs": []
    },
    {
      "cell_type": "code",
      "metadata": {
        "id": "hpNsXIeUFeTy",
        "colab_type": "code",
        "outputId": "1c86641d-2890-4aea-a21d-16b8306424c4",
        "colab": {
          "base_uri": "https://localhost:8080/",
          "height": 221
        }
      },
      "source": [
        "# Create embedding layer to squeeze to dimensions to 16\n",
        "c_music = get_music(content_music)\n",
        "s_music = get_music(style_music)\n",
        "print(c_music.shape)\n",
        "print(s_music.shape)\n",
        "print(c_music[:, :30].max(axis=0))\n",
        "print(c_music[:, 5])"
      ],
      "execution_count": 0,
      "outputs": [
        {
          "output_type": "stream",
          "text": [
            "(128, 256)\n",
            "(128, 256)\n",
            "[ 0.  0.  0.  0.  0. 37.  0.  0.  0. 40. 40. 40. 40. 40.  0. 43. 43. 43.\n",
            " 43. 38.  0.  0.  0.  0.  0.  0. 33.  0.  0.  0.]\n",
            "[ 0.  0.  0.  0.  0.  0.  0.  0.  0.  0.  0.  0.  0.  0.  0.  0.  0.  0.\n",
            "  0.  0.  0.  0.  0.  0.  0.  0.  0.  0.  0.  0.  0.  0.  0.  0.  0.  0.\n",
            "  0. 37.  0.  0.  0.  0.  0.  0.  0.  0.  0.  0.  0.  0.  0.  0.  0.  0.\n",
            "  0.  0.  0.  0.  0.  0.  0.  0.  0.  0.  0.  0.  0.  0.  0.  0.  0.  0.\n",
            "  0.  0.  0.  0.  0.  0.  0.  0.  0.  0.  0.  0.  0.  0.  0.  0.  0.  0.\n",
            "  0.  0.  0.  0.  0.  0.  0.  0.  0.  0.  0.  0.  0.  0.  0.  0.  0.  0.\n",
            "  0.  0.  0.  0.  0.  0.  0.  0.  0.  0.  0.  0.  0.  0.  0.  0.  0.  0.\n",
            "  0.  0.]\n"
          ],
          "name": "stdout"
        }
      ]
    },
    {
      "cell_type": "markdown",
      "metadata": {
        "id": "sby39810JOSt",
        "colab_type": "text"
      },
      "source": [
        "#Run Model "
      ]
    },
    {
      "cell_type": "code",
      "metadata": {
        "id": "dpZXqsB5JHFU",
        "colab_type": "code",
        "outputId": "1590fb3a-2820-48fe-efd2-63eee4f94ab4",
        "colab": {
          "base_uri": "https://localhost:8080/",
          "height": 8758
        }
      },
      "source": [
        "input_tensor, shape, combination_image, nb_tensors = get_inputs(get_music(content_music), get_music(style_music))\n",
        "vgg_model = get_model(input_tensor, shape)\n",
        "load_model(vgg_model)\n",
        "outputs_dict, shape_dict = get_output_dict_and_shape(vgg_model)\n",
        "loss = get_loss(outputs_dict, shape_dict, combination_image, nb_tensors)\n",
        "outputs = get_grad(loss, combination_image)\n",
        "f_outputs = K.function([combination_image], outputs)\n",
        "evaluator = Evaluator(f_outputs)\n",
        "\n",
        "prev_min_val = -1\n",
        "\n",
        "x = preprocess_music_for_vgg(get_music(content_music))\n",
        "improvement_threshold = float(min_improvement)\n",
        "\n",
        "result_prefix = \"midi_straight\"\n",
        "\n",
        "loss_aray1= []\n",
        "\n",
        "for i in range(num_iter):\n",
        "    print(\"Starting iteration %d of %d\" % ((i + 1), num_iter))\n",
        "    start_time = time.time()\n",
        "\n",
        "    x, min_val, info = fmin_l_bfgs_b(evaluator.loss, x.flatten(), fprime=evaluator.grads, maxfun=20)\n",
        "    \n",
        "    loss_aray1.append(min_val)\n",
        "    if prev_min_val == -1:\n",
        "        prev_min_val = min_val\n",
        "\n",
        "    improvement = (prev_min_val - min_val) / prev_min_val * 100\n",
        "    \n",
        "\n",
        "    print('Current loss value:', min_val, \" Improvement : %0.3f\" % improvement, \"%\")\n",
        "    prev_min_val = min_val\n",
        "    # save current generated image\n",
        "    img = deprocess_music(x.copy())\n",
        "\n",
        "    if not rescale_image:\n",
        "        img_ht = int(input_width * aspect_ratio)\n",
        "        print(\"Rescaling Image to (%d, %d)\" % (input_width, img_ht))\n",
        "        img = imresize(img, (input_width, img_ht), interp=rescale_method)\n",
        "\n",
        "    if rescale_image:\n",
        "        print(\"Rescaling Image to (%d, %d)\" % (input_WIDTH, input_HEIGHT))\n",
        "        img = imresize(img, (input_WIDTH, input_HEIGHT), interp=rescale_method)\n",
        "\n",
        "    fname = result_prefix + '_at_iteration_%d.midi' % (i + 1)\n",
        "    img = piano_roll_to_pretty_midi(img)\n",
        "    img.write(fname)\n",
        "    end_time = time.time()\n",
        "    print('Image saved as', fname)\n",
        "    print('Iteration %d completed in %ds' % (i + 1, end_time - start_time))\n",
        "\n",
        "    if improvement_threshold is not 0.0:\n",
        "        if improvement < improvement_threshold and improvement is not 0.0:\n",
        "            print(\"Improvement (%f) is less than improvement threshold (%f). Early stopping script.\" % (\n",
        "                improvement, improvement_threshold))\n",
        "            exit()"
      ],
      "execution_count": 46,
      "outputs": [
        {
          "output_type": "stream",
          "text": [
            "/usr/local/lib/python2.7/dist-packages/ipykernel_launcher.py:20: DeprecationWarning: `imresize` is deprecated!\n",
            "`imresize` is deprecated in SciPy 1.0.0, and will be removed in 1.3.0.\n",
            "Use Pillow instead: ``numpy.array(Image.fromarray(arr).resize())``.\n"
          ],
          "name": "stderr"
        },
        {
          "output_type": "stream",
          "text": [
            "nb_tensors\n",
            "3\n",
            "input_width\n",
            "128\n",
            "input_height\n",
            "256\n",
            "Model loaded.\n",
            "Starting iteration 1 of 100\n",
            "('Current loss value:', 2765.7754, ' Improvement : 0.000', '%')\n",
            "Rescaling Image to (128, 256)\n",
            "('Image saved as', 'midi_straight_at_iteration_1.midi')\n",
            "Iteration 1 completed in 2s\n",
            "Starting iteration 2 of 100\n"
          ],
          "name": "stdout"
        },
        {
          "output_type": "stream",
          "text": [
            "/usr/local/lib/python2.7/dist-packages/ipykernel_launcher.py:44: DeprecationWarning: `imresize` is deprecated!\n",
            "`imresize` is deprecated in SciPy 1.0.0, and will be removed in 1.3.0.\n",
            "Use Pillow instead: ``numpy.array(Image.fromarray(arr).resize())``.\n"
          ],
          "name": "stderr"
        },
        {
          "output_type": "stream",
          "text": [
            "('Current loss value:', 2145.4756, ' Improvement : 22.428', '%')\n",
            "Rescaling Image to (128, 256)\n",
            "('Image saved as', 'midi_straight_at_iteration_2.midi')\n",
            "Iteration 2 completed in 0s\n",
            "Starting iteration 3 of 100\n",
            "('Current loss value:', 1873.0149, ' Improvement : 12.699', '%')\n",
            "Rescaling Image to (128, 256)\n",
            "('Image saved as', 'midi_straight_at_iteration_3.midi')\n",
            "Iteration 3 completed in 0s\n",
            "Starting iteration 4 of 100\n",
            "('Current loss value:', 1683.6101, ' Improvement : 10.112', '%')\n",
            "Rescaling Image to (128, 256)\n",
            "('Image saved as', 'midi_straight_at_iteration_4.midi')\n",
            "Iteration 4 completed in 0s\n",
            "Starting iteration 5 of 100\n",
            "('Current loss value:', 1518.9745, ' Improvement : 9.779', '%')\n",
            "Rescaling Image to (128, 256)\n",
            "('Image saved as', 'midi_straight_at_iteration_5.midi')\n",
            "Iteration 5 completed in 0s\n",
            "Starting iteration 6 of 100\n",
            "('Current loss value:', 1383.9907, ' Improvement : 8.887', '%')\n",
            "Rescaling Image to (128, 256)\n",
            "('Image saved as', 'midi_straight_at_iteration_6.midi')\n",
            "Iteration 6 completed in 0s\n",
            "Starting iteration 7 of 100\n",
            "('Current loss value:', 1271.9816, ' Improvement : 8.093', '%')\n",
            "Rescaling Image to (128, 256)\n",
            "('Image saved as', 'midi_straight_at_iteration_7.midi')\n",
            "Iteration 7 completed in 0s\n",
            "Starting iteration 8 of 100\n",
            "('Current loss value:', 1179.4939, ' Improvement : 7.271', '%')\n",
            "Rescaling Image to (128, 256)\n",
            "('Image saved as', 'midi_straight_at_iteration_8.midi')\n",
            "Iteration 8 completed in 0s\n",
            "Starting iteration 9 of 100\n",
            "('Current loss value:', 1111.6581, ' Improvement : 5.751', '%')\n",
            "Rescaling Image to (128, 256)\n",
            "('Image saved as', 'midi_straight_at_iteration_9.midi')\n",
            "Iteration 9 completed in 0s\n",
            "Starting iteration 10 of 100\n",
            "('Current loss value:', 1056.7506, ' Improvement : 4.939', '%')\n",
            "Rescaling Image to (128, 256)\n",
            "('Image saved as', 'midi_straight_at_iteration_10.midi')\n",
            "Iteration 10 completed in 0s\n",
            "Starting iteration 11 of 100\n",
            "('Current loss value:', 1007.92206, ' Improvement : 4.621', '%')\n",
            "Rescaling Image to (128, 256)\n",
            "('Image saved as', 'midi_straight_at_iteration_11.midi')\n",
            "Iteration 11 completed in 0s\n",
            "Starting iteration 12 of 100\n",
            "('Current loss value:', 969.503, ' Improvement : 3.812', '%')\n",
            "Rescaling Image to (128, 256)\n",
            "('Image saved as', 'midi_straight_at_iteration_12.midi')\n",
            "Iteration 12 completed in 0s\n",
            "Starting iteration 13 of 100\n",
            "('Current loss value:', 940.3631, ' Improvement : 3.006', '%')\n",
            "Rescaling Image to (128, 256)\n",
            "('Image saved as', 'midi_straight_at_iteration_13.midi')\n",
            "Iteration 13 completed in 0s\n",
            "Starting iteration 14 of 100\n",
            "('Current loss value:', 915.62805, ' Improvement : 2.630', '%')\n",
            "Rescaling Image to (128, 256)\n",
            "('Image saved as', 'midi_straight_at_iteration_14.midi')\n",
            "Iteration 14 completed in 0s\n",
            "Starting iteration 15 of 100\n",
            "('Current loss value:', 892.33264, ' Improvement : 2.544', '%')\n",
            "Rescaling Image to (128, 256)\n",
            "('Image saved as', 'midi_straight_at_iteration_15.midi')\n",
            "Iteration 15 completed in 0s\n",
            "Starting iteration 16 of 100\n",
            "('Current loss value:', 874.2597, ' Improvement : 2.025', '%')\n",
            "Rescaling Image to (128, 256)\n",
            "('Image saved as', 'midi_straight_at_iteration_16.midi')\n",
            "Iteration 16 completed in 0s\n",
            "Starting iteration 17 of 100\n",
            "('Current loss value:', 857.38385, ' Improvement : 1.930', '%')\n",
            "Rescaling Image to (128, 256)\n",
            "('Image saved as', 'midi_straight_at_iteration_17.midi')\n",
            "Iteration 17 completed in 0s\n",
            "Starting iteration 18 of 100\n",
            "('Current loss value:', 841.36426, ' Improvement : 1.868', '%')\n",
            "Rescaling Image to (128, 256)\n",
            "('Image saved as', 'midi_straight_at_iteration_18.midi')\n",
            "Iteration 18 completed in 0s\n",
            "Starting iteration 19 of 100\n",
            "('Current loss value:', 827.32684, ' Improvement : 1.668', '%')\n",
            "Rescaling Image to (128, 256)\n",
            "('Image saved as', 'midi_straight_at_iteration_19.midi')\n",
            "Iteration 19 completed in 0s\n",
            "Starting iteration 20 of 100\n",
            "('Current loss value:', 815.3722, ' Improvement : 1.445', '%')\n",
            "Rescaling Image to (128, 256)\n",
            "('Image saved as', 'midi_straight_at_iteration_20.midi')\n",
            "Iteration 20 completed in 0s\n",
            "Starting iteration 21 of 100\n",
            "('Current loss value:', 803.62396, ' Improvement : 1.441', '%')\n",
            "Rescaling Image to (128, 256)\n",
            "('Image saved as', 'midi_straight_at_iteration_21.midi')\n",
            "Iteration 21 completed in 0s\n",
            "Starting iteration 22 of 100\n",
            "('Current loss value:', 793.42584, ' Improvement : 1.269', '%')\n",
            "Rescaling Image to (128, 256)\n",
            "('Image saved as', 'midi_straight_at_iteration_22.midi')\n",
            "Iteration 22 completed in 0s\n",
            "Starting iteration 23 of 100\n",
            "('Current loss value:', 784.3799, ' Improvement : 1.140', '%')\n",
            "Rescaling Image to (128, 256)\n",
            "('Image saved as', 'midi_straight_at_iteration_23.midi')\n",
            "Iteration 23 completed in 0s\n",
            "Starting iteration 24 of 100\n",
            "('Current loss value:', 776.06177, ' Improvement : 1.060', '%')\n",
            "Rescaling Image to (128, 256)\n",
            "('Image saved as', 'midi_straight_at_iteration_24.midi')\n",
            "Iteration 24 completed in 0s\n",
            "Starting iteration 25 of 100\n",
            "('Current loss value:', 768.4845, ' Improvement : 0.976', '%')\n",
            "Rescaling Image to (128, 256)\n",
            "('Image saved as', 'midi_straight_at_iteration_25.midi')\n",
            "Iteration 25 completed in 0s\n",
            "Starting iteration 26 of 100\n",
            "('Current loss value:', 761.44354, ' Improvement : 0.916', '%')\n",
            "Rescaling Image to (128, 256)\n",
            "('Image saved as', 'midi_straight_at_iteration_26.midi')\n",
            "Iteration 26 completed in 0s\n",
            "Starting iteration 27 of 100\n",
            "('Current loss value:', 755.2237, ' Improvement : 0.817', '%')\n",
            "Rescaling Image to (128, 256)\n",
            "('Image saved as', 'midi_straight_at_iteration_27.midi')\n",
            "Iteration 27 completed in 0s\n",
            "Starting iteration 28 of 100\n",
            "('Current loss value:', 749.2294, ' Improvement : 0.794', '%')\n",
            "Rescaling Image to (128, 256)\n",
            "('Image saved as', 'midi_straight_at_iteration_28.midi')\n",
            "Iteration 28 completed in 0s\n",
            "Starting iteration 29 of 100\n",
            "('Current loss value:', 743.537, ' Improvement : 0.760', '%')\n",
            "Rescaling Image to (128, 256)\n",
            "('Image saved as', 'midi_straight_at_iteration_29.midi')\n",
            "Iteration 29 completed in 0s\n",
            "Starting iteration 30 of 100\n",
            "('Current loss value:', 738.2341, ' Improvement : 0.713', '%')\n",
            "Rescaling Image to (128, 256)\n",
            "('Image saved as', 'midi_straight_at_iteration_30.midi')\n",
            "Iteration 30 completed in 0s\n",
            "Starting iteration 31 of 100\n",
            "('Current loss value:', 733.3575, ' Improvement : 0.661', '%')\n",
            "Rescaling Image to (128, 256)\n",
            "('Image saved as', 'midi_straight_at_iteration_31.midi')\n",
            "Iteration 31 completed in 0s\n",
            "Starting iteration 32 of 100\n",
            "('Current loss value:', 728.6759, ' Improvement : 0.638', '%')\n",
            "Rescaling Image to (128, 256)\n",
            "('Image saved as', 'midi_straight_at_iteration_32.midi')\n",
            "Iteration 32 completed in 0s\n",
            "Starting iteration 33 of 100\n",
            "('Current loss value:', 724.4968, ' Improvement : 0.574', '%')\n",
            "Rescaling Image to (128, 256)\n",
            "('Image saved as', 'midi_straight_at_iteration_33.midi')\n",
            "Iteration 33 completed in 0s\n",
            "Starting iteration 34 of 100\n",
            "('Current loss value:', 720.58527, ' Improvement : 0.540', '%')\n",
            "Rescaling Image to (128, 256)\n",
            "('Image saved as', 'midi_straight_at_iteration_34.midi')\n",
            "Iteration 34 completed in 0s\n",
            "Starting iteration 35 of 100\n",
            "('Current loss value:', 717.03876, ' Improvement : 0.492', '%')\n",
            "Rescaling Image to (128, 256)\n",
            "('Image saved as', 'midi_straight_at_iteration_35.midi')\n",
            "Iteration 35 completed in 0s\n",
            "Starting iteration 36 of 100\n",
            "('Current loss value:', 713.6943, ' Improvement : 0.466', '%')\n",
            "Rescaling Image to (128, 256)\n",
            "('Image saved as', 'midi_straight_at_iteration_36.midi')\n",
            "Iteration 36 completed in 0s\n",
            "Starting iteration 37 of 100\n",
            "('Current loss value:', 710.59717, ' Improvement : 0.434', '%')\n",
            "Rescaling Image to (128, 256)\n",
            "('Image saved as', 'midi_straight_at_iteration_37.midi')\n",
            "Iteration 37 completed in 0s\n",
            "Starting iteration 38 of 100\n",
            "('Current loss value:', 707.68146, ' Improvement : 0.410', '%')\n",
            "Rescaling Image to (128, 256)\n",
            "('Image saved as', 'midi_straight_at_iteration_38.midi')\n",
            "Iteration 38 completed in 0s\n",
            "Starting iteration 39 of 100\n",
            "('Current loss value:', 704.7604, ' Improvement : 0.413', '%')\n",
            "Rescaling Image to (128, 256)\n",
            "('Image saved as', 'midi_straight_at_iteration_39.midi')\n",
            "Iteration 39 completed in 0s\n",
            "Starting iteration 40 of 100\n",
            "('Current loss value:', 701.75806, ' Improvement : 0.426', '%')\n",
            "Rescaling Image to (128, 256)\n",
            "('Image saved as', 'midi_straight_at_iteration_40.midi')\n",
            "Iteration 40 completed in 0s\n",
            "Starting iteration 41 of 100\n",
            "('Current loss value:', 699.06085, ' Improvement : 0.384', '%')\n",
            "Rescaling Image to (128, 256)\n",
            "('Image saved as', 'midi_straight_at_iteration_41.midi')\n",
            "Iteration 41 completed in 0s\n",
            "Starting iteration 42 of 100\n",
            "('Current loss value:', 696.42004, ' Improvement : 0.378', '%')\n",
            "Rescaling Image to (128, 256)\n",
            "('Image saved as', 'midi_straight_at_iteration_42.midi')\n",
            "Iteration 42 completed in 0s\n",
            "Starting iteration 43 of 100\n",
            "('Current loss value:', 694.016, ' Improvement : 0.345', '%')\n",
            "Rescaling Image to (128, 256)\n",
            "('Image saved as', 'midi_straight_at_iteration_43.midi')\n",
            "Iteration 43 completed in 0s\n",
            "Starting iteration 44 of 100\n",
            "('Current loss value:', 691.5829, ' Improvement : 0.351', '%')\n",
            "Rescaling Image to (128, 256)\n",
            "('Image saved as', 'midi_straight_at_iteration_44.midi')\n",
            "Iteration 44 completed in 0s\n",
            "Starting iteration 45 of 100\n",
            "('Current loss value:', 689.4877, ' Improvement : 0.303', '%')\n",
            "Rescaling Image to (128, 256)\n",
            "('Image saved as', 'midi_straight_at_iteration_45.midi')\n",
            "Iteration 45 completed in 0s\n",
            "Starting iteration 46 of 100\n",
            "('Current loss value:', 687.47504, ' Improvement : 0.292', '%')\n",
            "Rescaling Image to (128, 256)\n",
            "('Image saved as', 'midi_straight_at_iteration_46.midi')\n",
            "Iteration 46 completed in 0s\n",
            "Starting iteration 47 of 100\n",
            "('Current loss value:', 685.5398, ' Improvement : 0.281', '%')\n",
            "Rescaling Image to (128, 256)\n",
            "('Image saved as', 'midi_straight_at_iteration_47.midi')\n",
            "Iteration 47 completed in 0s\n",
            "Starting iteration 48 of 100\n",
            "('Current loss value:', 683.7519, ' Improvement : 0.261', '%')\n",
            "Rescaling Image to (128, 256)\n",
            "('Image saved as', 'midi_straight_at_iteration_48.midi')\n",
            "Iteration 48 completed in 0s\n",
            "Starting iteration 49 of 100\n",
            "('Current loss value:', 682.1667, ' Improvement : 0.232', '%')\n",
            "Rescaling Image to (128, 256)\n",
            "('Image saved as', 'midi_straight_at_iteration_49.midi')\n",
            "Iteration 49 completed in 0s\n",
            "Starting iteration 50 of 100\n",
            "('Current loss value:', 680.64343, ' Improvement : 0.223', '%')\n",
            "Rescaling Image to (128, 256)\n",
            "('Image saved as', 'midi_straight_at_iteration_50.midi')\n",
            "Iteration 50 completed in 0s\n",
            "Starting iteration 51 of 100\n",
            "('Current loss value:', 679.1432, ' Improvement : 0.220', '%')\n",
            "Rescaling Image to (128, 256)\n",
            "('Image saved as', 'midi_straight_at_iteration_51.midi')\n",
            "Iteration 51 completed in 0s\n",
            "Starting iteration 52 of 100\n",
            "('Current loss value:', 677.82904, ' Improvement : 0.194', '%')\n",
            "Rescaling Image to (128, 256)\n",
            "('Image saved as', 'midi_straight_at_iteration_52.midi')\n",
            "Iteration 52 completed in 0s\n",
            "Starting iteration 53 of 100\n",
            "('Current loss value:', 676.5626, ' Improvement : 0.187', '%')\n",
            "Rescaling Image to (128, 256)\n",
            "('Image saved as', 'midi_straight_at_iteration_53.midi')\n",
            "Iteration 53 completed in 0s\n",
            "Starting iteration 54 of 100\n",
            "('Current loss value:', 675.39343, ' Improvement : 0.173', '%')\n",
            "Rescaling Image to (128, 256)\n",
            "('Image saved as', 'midi_straight_at_iteration_54.midi')\n",
            "Iteration 54 completed in 0s\n",
            "Starting iteration 55 of 100\n",
            "('Current loss value:', 674.3021, ' Improvement : 0.162', '%')\n",
            "Rescaling Image to (128, 256)\n",
            "('Image saved as', 'midi_straight_at_iteration_55.midi')\n",
            "Iteration 55 completed in 0s\n",
            "Starting iteration 56 of 100\n",
            "('Current loss value:', 673.20276, ' Improvement : 0.163', '%')\n",
            "Rescaling Image to (128, 256)\n",
            "('Image saved as', 'midi_straight_at_iteration_56.midi')\n",
            "Iteration 56 completed in 0s\n",
            "Starting iteration 57 of 100\n",
            "('Current loss value:', 672.2665, ' Improvement : 0.139', '%')\n",
            "Rescaling Image to (128, 256)\n",
            "('Image saved as', 'midi_straight_at_iteration_57.midi')\n",
            "Iteration 57 completed in 0s\n",
            "Starting iteration 58 of 100\n",
            "('Current loss value:', 671.3357, ' Improvement : 0.138', '%')\n",
            "Rescaling Image to (128, 256)\n",
            "('Image saved as', 'midi_straight_at_iteration_58.midi')\n",
            "Iteration 58 completed in 0s\n",
            "Starting iteration 59 of 100\n",
            "('Current loss value:', 670.485, ' Improvement : 0.127', '%')\n",
            "Rescaling Image to (128, 256)\n",
            "('Image saved as', 'midi_straight_at_iteration_59.midi')\n",
            "Iteration 59 completed in 0s\n",
            "Starting iteration 60 of 100\n",
            "('Current loss value:', 669.66595, ' Improvement : 0.122', '%')\n",
            "Rescaling Image to (128, 256)\n",
            "('Image saved as', 'midi_straight_at_iteration_60.midi')\n",
            "Iteration 60 completed in 0s\n",
            "Starting iteration 61 of 100\n",
            "('Current loss value:', 668.93896, ' Improvement : 0.109', '%')\n",
            "Rescaling Image to (128, 256)\n",
            "('Image saved as', 'midi_straight_at_iteration_61.midi')\n",
            "Iteration 61 completed in 0s\n",
            "Starting iteration 62 of 100\n",
            "('Current loss value:', 668.2606, ' Improvement : 0.101', '%')\n",
            "Rescaling Image to (128, 256)\n",
            "('Image saved as', 'midi_straight_at_iteration_62.midi')\n",
            "Iteration 62 completed in 0s\n",
            "Starting iteration 63 of 100\n",
            "('Current loss value:', 667.61816, ' Improvement : 0.096', '%')\n",
            "Rescaling Image to (128, 256)\n",
            "('Image saved as', 'midi_straight_at_iteration_63.midi')\n",
            "Iteration 63 completed in 0s\n",
            "Starting iteration 64 of 100\n",
            "('Current loss value:', 666.9763, ' Improvement : 0.096', '%')\n",
            "Rescaling Image to (128, 256)\n",
            "('Image saved as', 'midi_straight_at_iteration_64.midi')\n",
            "Iteration 64 completed in 0s\n",
            "Starting iteration 65 of 100\n",
            "('Current loss value:', 666.41675, ' Improvement : 0.084', '%')\n",
            "Rescaling Image to (128, 256)\n",
            "('Image saved as', 'midi_straight_at_iteration_65.midi')\n",
            "Iteration 65 completed in 0s\n",
            "Starting iteration 66 of 100\n",
            "('Current loss value:', 665.86145, ' Improvement : 0.083', '%')\n",
            "Rescaling Image to (128, 256)\n",
            "('Image saved as', 'midi_straight_at_iteration_66.midi')\n",
            "Iteration 66 completed in 0s\n",
            "Starting iteration 67 of 100\n",
            "('Current loss value:', 665.3224, ' Improvement : 0.081', '%')\n",
            "Rescaling Image to (128, 256)\n",
            "('Image saved as', 'midi_straight_at_iteration_67.midi')\n",
            "Iteration 67 completed in 0s\n",
            "Starting iteration 68 of 100\n",
            "('Current loss value:', 664.7892, ' Improvement : 0.080', '%')\n",
            "Rescaling Image to (128, 256)\n",
            "('Image saved as', 'midi_straight_at_iteration_68.midi')\n",
            "Iteration 68 completed in 0s\n",
            "Starting iteration 69 of 100\n",
            "('Current loss value:', 664.28046, ' Improvement : 0.077', '%')\n",
            "Rescaling Image to (128, 256)\n",
            "('Image saved as', 'midi_straight_at_iteration_69.midi')\n",
            "Iteration 69 completed in 0s\n",
            "Starting iteration 70 of 100\n",
            "('Current loss value:', 663.7964, ' Improvement : 0.073', '%')\n",
            "Rescaling Image to (128, 256)\n",
            "('Image saved as', 'midi_straight_at_iteration_70.midi')\n",
            "Iteration 70 completed in 0s\n",
            "Starting iteration 71 of 100\n",
            "('Current loss value:', 663.33405, ' Improvement : 0.070', '%')\n",
            "Rescaling Image to (128, 256)\n",
            "('Image saved as', 'midi_straight_at_iteration_71.midi')\n",
            "Iteration 71 completed in 0s\n",
            "Starting iteration 72 of 100\n",
            "('Current loss value:', 662.87317, ' Improvement : 0.069', '%')\n",
            "Rescaling Image to (128, 256)\n",
            "('Image saved as', 'midi_straight_at_iteration_72.midi')\n",
            "Iteration 72 completed in 0s\n",
            "Starting iteration 73 of 100\n",
            "('Current loss value:', 662.4552, ' Improvement : 0.063', '%')\n",
            "Rescaling Image to (128, 256)\n",
            "('Image saved as', 'midi_straight_at_iteration_73.midi')\n",
            "Iteration 73 completed in 0s\n",
            "Starting iteration 74 of 100\n",
            "('Current loss value:', 662.0194, ' Improvement : 0.066', '%')\n",
            "Rescaling Image to (128, 256)\n",
            "('Image saved as', 'midi_straight_at_iteration_74.midi')\n",
            "Iteration 74 completed in 0s\n",
            "Starting iteration 75 of 100\n",
            "('Current loss value:', 661.6164, ' Improvement : 0.061', '%')\n",
            "Rescaling Image to (128, 256)\n",
            "('Image saved as', 'midi_straight_at_iteration_75.midi')\n",
            "Iteration 75 completed in 0s\n",
            "Starting iteration 76 of 100\n",
            "('Current loss value:', 661.2073, ' Improvement : 0.062', '%')\n",
            "Rescaling Image to (128, 256)\n",
            "('Image saved as', 'midi_straight_at_iteration_76.midi')\n",
            "Iteration 76 completed in 0s\n",
            "Starting iteration 77 of 100\n",
            "('Current loss value:', 660.80066, ' Improvement : 0.061', '%')\n",
            "Rescaling Image to (128, 256)\n",
            "('Image saved as', 'midi_straight_at_iteration_77.midi')\n",
            "Iteration 77 completed in 0s\n",
            "Starting iteration 78 of 100\n",
            "('Current loss value:', 660.4107, ' Improvement : 0.059', '%')\n",
            "Rescaling Image to (128, 256)\n",
            "('Image saved as', 'midi_straight_at_iteration_78.midi')\n",
            "Iteration 78 completed in 0s\n",
            "Starting iteration 79 of 100\n",
            "('Current loss value:', 660.0171, ' Improvement : 0.060', '%')\n",
            "Rescaling Image to (128, 256)\n",
            "('Image saved as', 'midi_straight_at_iteration_79.midi')\n",
            "Iteration 79 completed in 0s\n",
            "Starting iteration 80 of 100\n",
            "('Current loss value:', 659.6465, ' Improvement : 0.056', '%')\n",
            "Rescaling Image to (128, 256)\n",
            "('Image saved as', 'midi_straight_at_iteration_80.midi')\n",
            "Iteration 80 completed in 0s\n",
            "Starting iteration 81 of 100\n",
            "('Current loss value:', 659.2774, ' Improvement : 0.056', '%')\n",
            "Rescaling Image to (128, 256)\n",
            "('Image saved as', 'midi_straight_at_iteration_81.midi')\n",
            "Iteration 81 completed in 0s\n",
            "Starting iteration 82 of 100\n",
            "('Current loss value:', 658.9269, ' Improvement : 0.053', '%')\n",
            "Rescaling Image to (128, 256)\n",
            "('Image saved as', 'midi_straight_at_iteration_82.midi')\n",
            "Iteration 82 completed in 0s\n",
            "Starting iteration 83 of 100\n",
            "('Current loss value:', 658.5879, ' Improvement : 0.051', '%')\n",
            "Rescaling Image to (128, 256)\n",
            "('Image saved as', 'midi_straight_at_iteration_83.midi')\n",
            "Iteration 83 completed in 0s\n",
            "Starting iteration 84 of 100\n",
            "('Current loss value:', 658.2526, ' Improvement : 0.051', '%')\n",
            "Rescaling Image to (128, 256)\n",
            "('Image saved as', 'midi_straight_at_iteration_84.midi')\n",
            "Iteration 84 completed in 0s\n",
            "Starting iteration 85 of 100\n",
            "('Current loss value:', 657.9169, ' Improvement : 0.051', '%')\n",
            "Rescaling Image to (128, 256)\n",
            "('Image saved as', 'midi_straight_at_iteration_85.midi')\n",
            "Iteration 85 completed in 0s\n",
            "Starting iteration 86 of 100\n",
            "('Current loss value:', 657.59644, ' Improvement : 0.049', '%')\n",
            "Rescaling Image to (128, 256)\n",
            "('Image saved as', 'midi_straight_at_iteration_86.midi')\n",
            "Iteration 86 completed in 0s\n",
            "Starting iteration 87 of 100\n",
            "('Current loss value:', 657.2826, ' Improvement : 0.048', '%')\n",
            "Rescaling Image to (128, 256)\n",
            "('Image saved as', 'midi_straight_at_iteration_87.midi')\n",
            "Iteration 87 completed in 0s\n",
            "Starting iteration 88 of 100\n",
            "('Current loss value:', 656.9864, ' Improvement : 0.045', '%')\n",
            "Rescaling Image to (128, 256)\n",
            "('Image saved as', 'midi_straight_at_iteration_88.midi')\n",
            "Iteration 88 completed in 0s\n",
            "Starting iteration 89 of 100\n",
            "('Current loss value:', 656.6935, ' Improvement : 0.045', '%')\n",
            "Rescaling Image to (128, 256)\n",
            "('Image saved as', 'midi_straight_at_iteration_89.midi')\n",
            "Iteration 89 completed in 0s\n",
            "Starting iteration 90 of 100\n",
            "('Current loss value:', 656.3808, ' Improvement : 0.048', '%')\n",
            "Rescaling Image to (128, 256)\n",
            "('Image saved as', 'midi_straight_at_iteration_90.midi')\n",
            "Iteration 90 completed in 0s\n",
            "Starting iteration 91 of 100\n",
            "('Current loss value:', 656.0974, ' Improvement : 0.043', '%')\n",
            "Rescaling Image to (128, 256)\n",
            "('Image saved as', 'midi_straight_at_iteration_91.midi')\n",
            "Iteration 91 completed in 0s\n",
            "Starting iteration 92 of 100\n",
            "('Current loss value:', 655.78937, ' Improvement : 0.047', '%')\n",
            "Rescaling Image to (128, 256)\n",
            "('Image saved as', 'midi_straight_at_iteration_92.midi')\n",
            "Iteration 92 completed in 0s\n",
            "Starting iteration 93 of 100\n",
            "('Current loss value:', 655.5282, ' Improvement : 0.040', '%')\n",
            "Rescaling Image to (128, 256)\n",
            "('Image saved as', 'midi_straight_at_iteration_93.midi')\n",
            "Iteration 93 completed in 0s\n",
            "Starting iteration 94 of 100\n",
            "('Current loss value:', 655.2417, ' Improvement : 0.044', '%')\n",
            "Rescaling Image to (128, 256)\n",
            "('Image saved as', 'midi_straight_at_iteration_94.midi')\n",
            "Iteration 94 completed in 0s\n",
            "Starting iteration 95 of 100\n",
            "('Current loss value:', 654.98315, ' Improvement : 0.039', '%')\n",
            "Rescaling Image to (128, 256)\n",
            "('Image saved as', 'midi_straight_at_iteration_95.midi')\n",
            "Iteration 95 completed in 0s\n",
            "Starting iteration 96 of 100\n",
            "('Current loss value:', 654.7191, ' Improvement : 0.040', '%')\n",
            "Rescaling Image to (128, 256)\n",
            "('Image saved as', 'midi_straight_at_iteration_96.midi')\n",
            "Iteration 96 completed in 0s\n",
            "Starting iteration 97 of 100\n",
            "('Current loss value:', 654.46576, ' Improvement : 0.039', '%')\n",
            "Rescaling Image to (128, 256)\n",
            "('Image saved as', 'midi_straight_at_iteration_97.midi')\n",
            "Iteration 97 completed in 0s\n",
            "Starting iteration 98 of 100\n",
            "('Current loss value:', 654.1948, ' Improvement : 0.041', '%')\n",
            "Rescaling Image to (128, 256)\n",
            "('Image saved as', 'midi_straight_at_iteration_98.midi')\n",
            "Iteration 98 completed in 0s\n",
            "Starting iteration 99 of 100\n",
            "('Current loss value:', 653.9502, ' Improvement : 0.037', '%')\n",
            "Rescaling Image to (128, 256)\n",
            "('Image saved as', 'midi_straight_at_iteration_99.midi')\n",
            "Iteration 99 completed in 0s\n",
            "Starting iteration 100 of 100\n",
            "('Current loss value:', 653.69696, ' Improvement : 0.039', '%')\n",
            "Rescaling Image to (128, 256)\n",
            "('Image saved as', 'midi_straight_at_iteration_100.midi')\n",
            "Iteration 100 completed in 0s\n"
          ],
          "name": "stdout"
        }
      ]
    },
    {
      "cell_type": "code",
      "metadata": {
        "id": "cWu-OK5bjpaz",
        "colab_type": "code",
        "colab": {}
      },
      "source": [
        "files.download(\"midi_straight_at_iteration_100.midi\")"
      ],
      "execution_count": 0,
      "outputs": []
    },
    {
      "cell_type": "code",
      "metadata": {
        "id": "p8ivcajFy1Ad",
        "colab_type": "code",
        "colab": {}
      },
      "source": [
        ""
      ],
      "execution_count": 0,
      "outputs": []
    },
    {
      "cell_type": "code",
      "metadata": {
        "id": "iK35GovB0iE6",
        "colab_type": "code",
        "outputId": "ec2f3369-e3b5-4374-e0cd-363c1f90e85e",
        "colab": {
          "base_uri": "https://localhost:8080/",
          "height": 286
        }
      },
      "source": [
        "import matplotlib.pyplot as plt\n",
        "\n",
        "plt.plot(loss_aray, loss_aray1)"
      ],
      "execution_count": 0,
      "outputs": [
        {
          "output_type": "execute_result",
          "data": {
            "text/plain": [
              "[<matplotlib.lines.Line2D at 0x7ff159545c90>]"
            ]
          },
          "metadata": {
            "tags": []
          },
          "execution_count": 41
        },
        {
          "output_type": "display_data",
          "data": {
            "image/png": "[encoded data removed]",
            "text/plain": [
              "<Figure size 432x288 with 1 Axes>"
            ]
          },
          "metadata": {
            "tags": []
          }
        }
      ]
    },
    {
      "cell_type": "code",
      "metadata": {
        "id": "a6PNmEZEBZSF",
        "colab_type": "code",
        "colab": {}
      },
      "source": [
        ""
      ],
      "execution_count": 0,
      "outputs": []
    }
  ]
}